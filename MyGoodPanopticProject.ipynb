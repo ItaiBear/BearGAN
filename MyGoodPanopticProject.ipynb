{
  "nbformat": 4,
  "nbformat_minor": 0,
  "metadata": {
    "colab": {
      "name": "MyGoodPanopticProject",
      "provenance": [],
      "collapsed_sections": [
        "KlIO1yRbSX3N",
        "Hr6UYtiPgKf6",
        "dhT2RHJcgcPo",
        "UsgmmpFqp5Y0",
        "93APrnDJjwmM",
        "qWil4D1kQb3M",
        "mQED3UJpB-Gm"
      ],
      "mount_file_id": "1emL9ZF8JqqsmhAGu0Qw8TKruIYKOGV_c",
      "authorship_tag": "ABX9TyM04BhgfU6IHLt0RTu+963q",
      "include_colab_link": true
    },
    "kernelspec": {
      "name": "python3",
      "display_name": "Python 3"
    },
    "language_info": {
      "name": "python"
    },
    "accelerator": "GPU",
    "widgets": {
      "application/vnd.jupyter.widget-state+json": {
        "15c5c25faddb489789627c4dbd58d171": {
          "model_module": "@jupyter-widgets/controls",
          "model_name": "HBoxModel",
          "model_module_version": "1.5.0",
          "state": {
            "_dom_classes": [],
            "_model_module": "@jupyter-widgets/controls",
            "_model_module_version": "1.5.0",
            "_model_name": "HBoxModel",
            "_view_count": null,
            "_view_module": "@jupyter-widgets/controls",
            "_view_module_version": "1.5.0",
            "_view_name": "HBoxView",
            "box_style": "",
            "children": [
              "IPY_MODEL_1e06757b40f34d2ea359ca0fbab49c16",
              "IPY_MODEL_53992606b33a4fd1bd6a99c62ff55228",
              "IPY_MODEL_766a3d3c288b4d2cb17b762c51678fd0"
            ],
            "layout": "IPY_MODEL_b947a0510a2a451a983b39d0c6a64b19"
          }
        },
        "1e06757b40f34d2ea359ca0fbab49c16": {
          "model_module": "@jupyter-widgets/controls",
          "model_name": "HTMLModel",
          "model_module_version": "1.5.0",
          "state": {
            "_dom_classes": [],
            "_model_module": "@jupyter-widgets/controls",
            "_model_module_version": "1.5.0",
            "_model_name": "HTMLModel",
            "_view_count": null,
            "_view_module": "@jupyter-widgets/controls",
            "_view_module_version": "1.5.0",
            "_view_name": "HTMLView",
            "description": "",
            "description_tooltip": null,
            "layout": "IPY_MODEL_a3c84d36854b4bff89fdff1911e0d456",
            "placeholder": "​",
            "style": "IPY_MODEL_dc2d8e086b9b4ca987ef34993f2d4a72",
            "value": "100%"
          }
        },
        "53992606b33a4fd1bd6a99c62ff55228": {
          "model_module": "@jupyter-widgets/controls",
          "model_name": "FloatProgressModel",
          "model_module_version": "1.5.0",
          "state": {
            "_dom_classes": [],
            "_model_module": "@jupyter-widgets/controls",
            "_model_module_version": "1.5.0",
            "_model_name": "FloatProgressModel",
            "_view_count": null,
            "_view_module": "@jupyter-widgets/controls",
            "_view_module_version": "1.5.0",
            "_view_name": "ProgressView",
            "bar_style": "success",
            "description": "",
            "description_tooltip": null,
            "layout": "IPY_MODEL_c6980dacdf79439991650e3f2abadceb",
            "max": 95628359,
            "min": 0,
            "orientation": "horizontal",
            "style": "IPY_MODEL_0e984620056949b1b561adb0cba26dc6",
            "value": 95628359
          }
        },
        "766a3d3c288b4d2cb17b762c51678fd0": {
          "model_module": "@jupyter-widgets/controls",
          "model_name": "HTMLModel",
          "model_module_version": "1.5.0",
          "state": {
            "_dom_classes": [],
            "_model_module": "@jupyter-widgets/controls",
            "_model_module_version": "1.5.0",
            "_model_name": "HTMLModel",
            "_view_count": null,
            "_view_module": "@jupyter-widgets/controls",
            "_view_module_version": "1.5.0",
            "_view_name": "HTMLView",
            "description": "",
            "description_tooltip": null,
            "layout": "IPY_MODEL_2f5c5fbe85a841089a91cc80e8bc1d98",
            "placeholder": "​",
            "style": "IPY_MODEL_0bfb031ba87841cbb09f96ba058eea0d",
            "value": " 91.2M/91.2M [00:00&lt;00:00, 106MB/s]"
          }
        },
        "b947a0510a2a451a983b39d0c6a64b19": {
          "model_module": "@jupyter-widgets/base",
          "model_name": "LayoutModel",
          "model_module_version": "1.2.0",
          "state": {
            "_model_module": "@jupyter-widgets/base",
            "_model_module_version": "1.2.0",
            "_model_name": "LayoutModel",
            "_view_count": null,
            "_view_module": "@jupyter-widgets/base",
            "_view_module_version": "1.2.0",
            "_view_name": "LayoutView",
            "align_content": null,
            "align_items": null,
            "align_self": null,
            "border": null,
            "bottom": null,
            "display": null,
            "flex": null,
            "flex_flow": null,
            "grid_area": null,
            "grid_auto_columns": null,
            "grid_auto_flow": null,
            "grid_auto_rows": null,
            "grid_column": null,
            "grid_gap": null,
            "grid_row": null,
            "grid_template_areas": null,
            "grid_template_columns": null,
            "grid_template_rows": null,
            "height": null,
            "justify_content": null,
            "justify_items": null,
            "left": null,
            "margin": null,
            "max_height": null,
            "max_width": null,
            "min_height": null,
            "min_width": null,
            "object_fit": null,
            "object_position": null,
            "order": null,
            "overflow": null,
            "overflow_x": null,
            "overflow_y": null,
            "padding": null,
            "right": null,
            "top": null,
            "visibility": null,
            "width": null
          }
        },
        "a3c84d36854b4bff89fdff1911e0d456": {
          "model_module": "@jupyter-widgets/base",
          "model_name": "LayoutModel",
          "model_module_version": "1.2.0",
          "state": {
            "_model_module": "@jupyter-widgets/base",
            "_model_module_version": "1.2.0",
            "_model_name": "LayoutModel",
            "_view_count": null,
            "_view_module": "@jupyter-widgets/base",
            "_view_module_version": "1.2.0",
            "_view_name": "LayoutView",
            "align_content": null,
            "align_items": null,
            "align_self": null,
            "border": null,
            "bottom": null,
            "display": null,
            "flex": null,
            "flex_flow": null,
            "grid_area": null,
            "grid_auto_columns": null,
            "grid_auto_flow": null,
            "grid_auto_rows": null,
            "grid_column": null,
            "grid_gap": null,
            "grid_row": null,
            "grid_template_areas": null,
            "grid_template_columns": null,
            "grid_template_rows": null,
            "height": null,
            "justify_content": null,
            "justify_items": null,
            "left": null,
            "margin": null,
            "max_height": null,
            "max_width": null,
            "min_height": null,
            "min_width": null,
            "object_fit": null,
            "object_position": null,
            "order": null,
            "overflow": null,
            "overflow_x": null,
            "overflow_y": null,
            "padding": null,
            "right": null,
            "top": null,
            "visibility": null,
            "width": null
          }
        },
        "dc2d8e086b9b4ca987ef34993f2d4a72": {
          "model_module": "@jupyter-widgets/controls",
          "model_name": "DescriptionStyleModel",
          "model_module_version": "1.5.0",
          "state": {
            "_model_module": "@jupyter-widgets/controls",
            "_model_module_version": "1.5.0",
            "_model_name": "DescriptionStyleModel",
            "_view_count": null,
            "_view_module": "@jupyter-widgets/base",
            "_view_module_version": "1.2.0",
            "_view_name": "StyleView",
            "description_width": ""
          }
        },
        "c6980dacdf79439991650e3f2abadceb": {
          "model_module": "@jupyter-widgets/base",
          "model_name": "LayoutModel",
          "model_module_version": "1.2.0",
          "state": {
            "_model_module": "@jupyter-widgets/base",
            "_model_module_version": "1.2.0",
            "_model_name": "LayoutModel",
            "_view_count": null,
            "_view_module": "@jupyter-widgets/base",
            "_view_module_version": "1.2.0",
            "_view_name": "LayoutView",
            "align_content": null,
            "align_items": null,
            "align_self": null,
            "border": null,
            "bottom": null,
            "display": null,
            "flex": null,
            "flex_flow": null,
            "grid_area": null,
            "grid_auto_columns": null,
            "grid_auto_flow": null,
            "grid_auto_rows": null,
            "grid_column": null,
            "grid_gap": null,
            "grid_row": null,
            "grid_template_areas": null,
            "grid_template_columns": null,
            "grid_template_rows": null,
            "height": null,
            "justify_content": null,
            "justify_items": null,
            "left": null,
            "margin": null,
            "max_height": null,
            "max_width": null,
            "min_height": null,
            "min_width": null,
            "object_fit": null,
            "object_position": null,
            "order": null,
            "overflow": null,
            "overflow_x": null,
            "overflow_y": null,
            "padding": null,
            "right": null,
            "top": null,
            "visibility": null,
            "width": null
          }
        },
        "0e984620056949b1b561adb0cba26dc6": {
          "model_module": "@jupyter-widgets/controls",
          "model_name": "ProgressStyleModel",
          "model_module_version": "1.5.0",
          "state": {
            "_model_module": "@jupyter-widgets/controls",
            "_model_module_version": "1.5.0",
            "_model_name": "ProgressStyleModel",
            "_view_count": null,
            "_view_module": "@jupyter-widgets/base",
            "_view_module_version": "1.2.0",
            "_view_name": "StyleView",
            "bar_color": null,
            "description_width": ""
          }
        },
        "2f5c5fbe85a841089a91cc80e8bc1d98": {
          "model_module": "@jupyter-widgets/base",
          "model_name": "LayoutModel",
          "model_module_version": "1.2.0",
          "state": {
            "_model_module": "@jupyter-widgets/base",
            "_model_module_version": "1.2.0",
            "_model_name": "LayoutModel",
            "_view_count": null,
            "_view_module": "@jupyter-widgets/base",
            "_view_module_version": "1.2.0",
            "_view_name": "LayoutView",
            "align_content": null,
            "align_items": null,
            "align_self": null,
            "border": null,
            "bottom": null,
            "display": null,
            "flex": null,
            "flex_flow": null,
            "grid_area": null,
            "grid_auto_columns": null,
            "grid_auto_flow": null,
            "grid_auto_rows": null,
            "grid_column": null,
            "grid_gap": null,
            "grid_row": null,
            "grid_template_areas": null,
            "grid_template_columns": null,
            "grid_template_rows": null,
            "height": null,
            "justify_content": null,
            "justify_items": null,
            "left": null,
            "margin": null,
            "max_height": null,
            "max_width": null,
            "min_height": null,
            "min_width": null,
            "object_fit": null,
            "object_position": null,
            "order": null,
            "overflow": null,
            "overflow_x": null,
            "overflow_y": null,
            "padding": null,
            "right": null,
            "top": null,
            "visibility": null,
            "width": null
          }
        },
        "0bfb031ba87841cbb09f96ba058eea0d": {
          "model_module": "@jupyter-widgets/controls",
          "model_name": "DescriptionStyleModel",
          "model_module_version": "1.5.0",
          "state": {
            "_model_module": "@jupyter-widgets/controls",
            "_model_module_version": "1.5.0",
            "_model_name": "DescriptionStyleModel",
            "_view_count": null,
            "_view_module": "@jupyter-widgets/base",
            "_view_module_version": "1.2.0",
            "_view_name": "StyleView",
            "description_width": ""
          }
        }
      }
    }
  },
  "cells": [
    {
      "cell_type": "markdown",
      "metadata": {
        "id": "view-in-github",
        "colab_type": "text"
      },
      "source": [
        "<a href=\"https://colab.research.google.com/github/ItaiBear/BearGAN/blob/main/MyGoodPanopticProject.ipynb\" target=\"_parent\"><img src=\"https://colab.research.google.com/assets/colab-badge.svg\" alt=\"Open In Colab\"/></a>"
      ]
    },
    {
      "cell_type": "markdown",
      "source": [
        "#Using GAN to generate photorealistic images from semantic images"
      ],
      "metadata": {
        "id": "CjjEocUwfSke"
      }
    },
    {
      "cell_type": "code",
      "source": [
        "import os\n",
        "assert os.environ['COLAB_TPU_ADDR'], 'Make sure to select TPU from Edit > Notebook settings > Hardware accelerator'"
      ],
      "metadata": {
        "id": "Ocaia9n-L5l7"
      },
      "execution_count": null,
      "outputs": []
    },
    {
      "cell_type": "code",
      "source": [
        "! pip install cloud-tpu-client==0.10 torch==1.11.0 https://storage.googleapis.com/tpu-pytorch/wheels/colab/torch_xla-1.11-cp37-cp37m-linux_x86_64.whl"
      ],
      "metadata": {
        "id": "V20Kys2yLzG0"
      },
      "execution_count": null,
      "outputs": []
    },
    {
      "cell_type": "code",
      "source": [
        "! pip install torchinfo\n",
        "! pip install cityscapesscripts"
      ],
      "metadata": {
        "id": "JJs492MKfrNC"
      },
      "execution_count": null,
      "outputs": []
    },
    {
      "cell_type": "code",
      "source": [
        "! git clone \"https://github.com/ItaiBear/BearGAN\"         \n",
        "! git clone \"https://github.com/boschresearch/OASIS\"\n",
        "! git clone \"https://github.com/google-research/deeplab2.git\""
      ],
      "metadata": {
        "colab": {
          "base_uri": "https://localhost:8080/"
        },
        "id": "pCFwonI4VIK2",
        "outputId": "bb68be1b-1d4c-4eba-ad58-09e3c9c83f7d"
      },
      "execution_count": null,
      "outputs": [
        {
          "output_type": "stream",
          "name": "stdout",
          "text": [
            "fatal: destination path 'BearGAN' already exists and is not an empty directory.\n",
            "fatal: destination path 'OASIS' already exists and is not an empty directory.\n",
            "fatal: destination path 'deeplab2' already exists and is not an empty directory.\n"
          ]
        }
      ]
    },
    {
      "cell_type": "code",
      "source": [
        "#! pip install -r OASIS/requirements.txt"
      ],
      "metadata": {
        "colab": {
          "base_uri": "https://localhost:8080/"
        },
        "id": "1U0Jd4_1PlXC",
        "outputId": "5bd66580-6733-4582-e8e0-d0a4e05889bd"
      },
      "execution_count": null,
      "outputs": [
        {
          "output_type": "stream",
          "name": "stdout",
          "text": [
            "\u001b[31mERROR: Could not open requirements file: [Errno 2] No such file or directory: 'requirements.txt'\u001b[0m\n"
          ]
        }
      ]
    },
    {
      "cell_type": "code",
      "source": [
        "root_project_directory = \"/content/drive/MyDrive/ProjectGAN\""
      ],
      "metadata": {
        "id": "TmHUYq92-ZFI"
      },
      "execution_count": null,
      "outputs": []
    },
    {
      "cell_type": "code",
      "source": [
        "import numpy as np\n",
        "import random\n",
        "import torch\n",
        "from torchvision import transforms as TR\n",
        "from torchinfo import summary\n",
        "import matplotlib.pyplot as plt\n",
        "from matplotlib import gridspec\n",
        "from PIL import Image\n",
        "from types import SimpleNamespace\n",
        "import os\n",
        "import sys\n",
        "sys.path.append(os.path.abspath(\"/content/OASIS\"))\n",
        "sys.path.append(os.path.abspath(\"/content/BearGAN\"))\n",
        "sys.path.append(os.path.abspath(\"/content/deeplab2\"))\n",
        "print(sys.path)\n",
        "import OASIS\n",
        "import BearGAN\n",
        "\n",
        "\n",
        "import models.models as models\n",
        "import models.losses as losses\n",
        "import dataloaders.dataloaders as dataloaders\n",
        "import OASIS.utils.utils as utils\n",
        "from OASIS.utils.fid_scores import fid_pytorch\n",
        "import config"
      ],
      "metadata": {
        "id": "8qFw7XrI8XEb",
        "colab": {
          "base_uri": "https://localhost:8080/",
          "height": 515
        },
        "outputId": "518fed53-ff29-4e02-bad7-3ddeaa7feaf7"
      },
      "execution_count": null,
      "outputs": [
        {
          "output_type": "stream",
          "name": "stdout",
          "text": [
            "['', '/content', '/env/python', '/usr/lib/python37.zip', '/usr/lib/python3.7', '/usr/lib/python3.7/lib-dynload', '/usr/local/lib/python3.7/dist-packages', '/usr/lib/python3/dist-packages', '/usr/local/lib/python3.7/dist-packages/IPython/extensions', '/root/.ipython', '/content/OASIS', '/content/BearGAN', '/content/deeplab2']\n"
          ]
        },
        {
          "output_type": "error",
          "ename": "ModuleNotFoundError",
          "evalue": "ignored",
          "traceback": [
            "\u001b[0;31m---------------------------------------------------------------------------\u001b[0m",
            "\u001b[0;31mModuleNotFoundError\u001b[0m                       Traceback (most recent call last)",
            "\u001b[0;32m<ipython-input-4-e4737430e7e4>\u001b[0m in \u001b[0;36m<module>\u001b[0;34m()\u001b[0m\n\u001b[1;32m     22\u001b[0m \u001b[0;32mimport\u001b[0m \u001b[0mdataloaders\u001b[0m\u001b[0;34m.\u001b[0m\u001b[0mdataloaders\u001b[0m \u001b[0;32mas\u001b[0m \u001b[0mdataloaders\u001b[0m\u001b[0;34m\u001b[0m\u001b[0;34m\u001b[0m\u001b[0m\n\u001b[1;32m     23\u001b[0m \u001b[0;32mimport\u001b[0m \u001b[0mOASIS\u001b[0m\u001b[0;34m.\u001b[0m\u001b[0mutils\u001b[0m\u001b[0;34m.\u001b[0m\u001b[0mutils\u001b[0m \u001b[0;32mas\u001b[0m \u001b[0mutils\u001b[0m\u001b[0;34m\u001b[0m\u001b[0;34m\u001b[0m\u001b[0m\n\u001b[0;32m---> 24\u001b[0;31m \u001b[0;32mfrom\u001b[0m \u001b[0mOASIS\u001b[0m\u001b[0;34m.\u001b[0m\u001b[0mutils\u001b[0m\u001b[0;34m.\u001b[0m\u001b[0mfid_scores\u001b[0m \u001b[0;32mimport\u001b[0m \u001b[0mfid_pytorch\u001b[0m\u001b[0;34m\u001b[0m\u001b[0;34m\u001b[0m\u001b[0m\n\u001b[0m\u001b[1;32m     25\u001b[0m \u001b[0;32mimport\u001b[0m \u001b[0mconfig\u001b[0m\u001b[0;34m\u001b[0m\u001b[0;34m\u001b[0m\u001b[0m\n",
            "\u001b[0;32m/content/OASIS/utils/fid_scores.py\u001b[0m in \u001b[0;36m<module>\u001b[0;34m()\u001b[0m\n\u001b[1;32m      7\u001b[0m \u001b[0;32mfrom\u001b[0m \u001b[0mPIL\u001b[0m \u001b[0;32mimport\u001b[0m \u001b[0mImage\u001b[0m\u001b[0;34m\u001b[0m\u001b[0;34m\u001b[0m\u001b[0m\n\u001b[1;32m      8\u001b[0m \u001b[0;32mimport\u001b[0m \u001b[0mmodels\u001b[0m\u001b[0;34m.\u001b[0m\u001b[0mmodels\u001b[0m \u001b[0;32mas\u001b[0m \u001b[0mmodels\u001b[0m\u001b[0;34m\u001b[0m\u001b[0;34m\u001b[0m\u001b[0m\n\u001b[0;32m----> 9\u001b[0;31m \u001b[0;32mfrom\u001b[0m \u001b[0mutils\u001b[0m\u001b[0;34m.\u001b[0m\u001b[0mfid_folder\u001b[0m\u001b[0;34m.\u001b[0m\u001b[0minception\u001b[0m \u001b[0;32mimport\u001b[0m \u001b[0mInceptionV3\u001b[0m\u001b[0;34m\u001b[0m\u001b[0;34m\u001b[0m\u001b[0m\n\u001b[0m\u001b[1;32m     10\u001b[0m \u001b[0;32mimport\u001b[0m \u001b[0mmatplotlib\u001b[0m\u001b[0;34m.\u001b[0m\u001b[0mpyplot\u001b[0m \u001b[0;32mas\u001b[0m \u001b[0mplt\u001b[0m\u001b[0;34m\u001b[0m\u001b[0;34m\u001b[0m\u001b[0m\n\u001b[1;32m     11\u001b[0m \u001b[0;34m\u001b[0m\u001b[0m\n",
            "\u001b[0;31mModuleNotFoundError\u001b[0m: No module named 'utils.fid_folder'",
            "",
            "\u001b[0;31m---------------------------------------------------------------------------\u001b[0;32m\nNOTE: If your import is failing due to a missing package, you can\nmanually install dependencies using either !pip or !apt.\n\nTo view examples of installing some common dependencies, click the\n\"Open Examples\" button below.\n\u001b[0;31m---------------------------------------------------------------------------\u001b[0m\n"
          ],
          "errorDetails": {
            "actions": [
              {
                "action": "open_url",
                "actionText": "Open Examples",
                "url": "/notebooks/snippets/importing_libraries.ipynb"
              }
            ]
          }
        }
      ]
    },
    {
      "cell_type": "code",
      "source": [
        "!nvidia-smi"
      ],
      "metadata": {
        "colab": {
          "base_uri": "https://localhost:8080/"
        },
        "id": "OoxvEkGobzsN",
        "outputId": "7e343f77-ff61-4c46-f2bc-58c148058547"
      },
      "execution_count": null,
      "outputs": [
        {
          "output_type": "stream",
          "name": "stdout",
          "text": [
            "Sat May  7 21:24:57 2022       \n",
            "+-----------------------------------------------------------------------------+\n",
            "| NVIDIA-SMI 460.32.03    Driver Version: 460.32.03    CUDA Version: 11.2     |\n",
            "|-------------------------------+----------------------+----------------------+\n",
            "| GPU  Name        Persistence-M| Bus-Id        Disp.A | Volatile Uncorr. ECC |\n",
            "| Fan  Temp  Perf  Pwr:Usage/Cap|         Memory-Usage | GPU-Util  Compute M. |\n",
            "|                               |                      |               MIG M. |\n",
            "|===============================+======================+======================|\n",
            "|   0  Tesla K80           Off  | 00000000:00:04.0 Off |                    0 |\n",
            "| N/A   73C    P8    33W / 149W |      0MiB / 11441MiB |      0%      Default |\n",
            "|                               |                      |                  N/A |\n",
            "+-------------------------------+----------------------+----------------------+\n",
            "                                                                               \n",
            "+-----------------------------------------------------------------------------+\n",
            "| Processes:                                                                  |\n",
            "|  GPU   GI   CI        PID   Type   Process name                  GPU Memory |\n",
            "|        ID   ID                                                   Usage      |\n",
            "|=============================================================================|\n",
            "|  No running processes found                                                 |\n",
            "+-----------------------------------------------------------------------------+\n"
          ]
        }
      ]
    },
    {
      "cell_type": "markdown",
      "source": [
        "##Get pretrained checkpoints\n",
        "I will save the trained models, available through dropbox, on the checkpoints folder on my google drive."
      ],
      "metadata": {
        "id": "KlIO1yRbSX3N"
      }
    },
    {
      "cell_type": "code",
      "source": [
        "do_fetch_checkpoints = True"
      ],
      "metadata": {
        "id": "9JUNZoPESauM"
      },
      "execution_count": null,
      "outputs": []
    },
    {
      "cell_type": "code",
      "source": [
        "def fetch_checkpoints(dataset, checkpoint_dir):\n",
        "  if (dataset == \"cityscapes\"):\n",
        "    url = 'https://www.dropbox.com/sh/nf6of02pyk84zjg/AADUqkgPWsPKUZUPXHnaji-ma/oasis_cityscapes_pretrained.zip?dl=1'\n",
        "    file_name = \"oasis_cityscapes_pretrained.zip\"\n",
        "  elif (dataset == \"coco\"):\n",
        "    url = \"https://www.dropbox.com/sh/nf6of02pyk84zjg/AAD_fmyJJopzG23rwPK4n35Xa/oasis_coco_pretrained.zip?dl=1\"\n",
        "    file_name = \"oasis_coco_pretrained.zip\"\n",
        "  elif (dataset == \"ade20k\"):\n",
        "    url = \"https://www.dropbox.com/sh/nf6of02pyk84zjg/AACpiAMaV-c4QcKv8DfiCv5-a/oasis_ade20k_pretrained.zip?dl=1\"\n",
        "    file_name = \"oasis_ade20k_pretrained.zip\"\n",
        "\n",
        "  path = checkpoints_dir + \"/\" + file_name\n",
        "  unzip_path = checkpoints_dir + \"/\" + dataset\n",
        "  print(path)\n",
        "  print(\"fetching checkpoints for the \" + dataset + \"dataset...\")\n",
        "  ! wget -c --read-timeout=5 --tries=0 -O {path} {url}\n",
        "  print(\"unzipping...\")\n",
        "  ! unzip -q {path} -d {checkpoints_dir}\n",
        "  print(\"finished successfuly!\")\n"
      ],
      "metadata": {
        "id": "RHwqYWAQYsL4"
      },
      "execution_count": null,
      "outputs": []
    },
    {
      "cell_type": "code",
      "source": [
        "if (do_fetch_checkpoints):\n",
        "  checkpoints_dir = root_project_directory + \"/pretrained_checkpoints\"\n",
        "  dataset_mode = \"ade20k\"\n",
        "  fetch_checkpoints(dataset_mode, checkpoints_dir)"
      ],
      "metadata": {
        "id": "3l9LIDuJliSq",
        "colab": {
          "base_uri": "https://localhost:8080/"
        },
        "outputId": "c36a3bde-8ca1-4911-d289-779b6f3ed6f5"
      },
      "execution_count": null,
      "outputs": [
        {
          "output_type": "stream",
          "name": "stdout",
          "text": [
            "/content/drive/MyDrive/ProjectGAN/pretrained_checkpoints/oasis_ade20k_pretrained.zip\n",
            "fetching checkpoints for the ade20kdataset...\n",
            "--2022-04-27 10:58:38--  https://www.dropbox.com/sh/nf6of02pyk84zjg/AACpiAMaV-c4QcKv8DfiCv5-a/oasis_ade20k_pretrained.zip?dl=1\n",
            "Resolving www.dropbox.com (www.dropbox.com)... 162.125.5.18, 2620:100:601d:18::a27d:512\n",
            "Connecting to www.dropbox.com (www.dropbox.com)|162.125.5.18|:443... connected.\n",
            "HTTP request sent, awaiting response... 301 Moved Permanently\n",
            "Location: /sh/dl/nf6of02pyk84zjg/AACpiAMaV-c4QcKv8DfiCv5-a/oasis_ade20k_pretrained.zip [following]\n",
            "--2022-04-27 10:58:38--  https://www.dropbox.com/sh/dl/nf6of02pyk84zjg/AACpiAMaV-c4QcKv8DfiCv5-a/oasis_ade20k_pretrained.zip\n",
            "Reusing existing connection to www.dropbox.com:443.\n",
            "HTTP request sent, awaiting response... 302 Found\n",
            "Location: https://uc3b0b99c2c0b41d04abd3878722.dl.dropboxusercontent.com/cd/0/get/BkMU1uIo3pqLgNAKMe1HLlQCq2EfiB00jWE_zfMf_DvKS9VB_zt6_3ePGVTgi76k1SaCOyJuQu2jwSsXD1fVGLMvznpqkqOAgk_MB2jFkVeUaP9bxz8pSOSGIcep7zkZulRNYeCFZqsFvNDv5szAely3Z7-LaN0vjQrUFu0koJSLc5rK_6y26ugjgz3HHVeEaaE/file?dl=1# [following]\n",
            "--2022-04-27 10:58:39--  https://uc3b0b99c2c0b41d04abd3878722.dl.dropboxusercontent.com/cd/0/get/BkMU1uIo3pqLgNAKMe1HLlQCq2EfiB00jWE_zfMf_DvKS9VB_zt6_3ePGVTgi76k1SaCOyJuQu2jwSsXD1fVGLMvznpqkqOAgk_MB2jFkVeUaP9bxz8pSOSGIcep7zkZulRNYeCFZqsFvNDv5szAely3Z7-LaN0vjQrUFu0koJSLc5rK_6y26ugjgz3HHVeEaaE/file?dl=1\n",
            "Resolving uc3b0b99c2c0b41d04abd3878722.dl.dropboxusercontent.com (uc3b0b99c2c0b41d04abd3878722.dl.dropboxusercontent.com)... 162.125.5.15, 2620:100:601d:15::a27d:50f\n",
            "Connecting to uc3b0b99c2c0b41d04abd3878722.dl.dropboxusercontent.com (uc3b0b99c2c0b41d04abd3878722.dl.dropboxusercontent.com)|162.125.5.15|:443... connected.\n",
            "HTTP request sent, awaiting response... 200 OK\n",
            "Length: 840707298 (802M) [application/binary]\n",
            "Saving to: ‘/content/drive/MyDrive/ProjectGAN/pretrained_checkpoints/oasis_ade20k_pretrained.zip’\n",
            "\n",
            "/content/drive/MyDr 100%[===================>] 801.76M  40.2MB/s    in 19s     \n",
            "\n",
            "2022-04-27 10:58:59 (42.7 MB/s) - ‘/content/drive/MyDrive/ProjectGAN/pretrained_checkpoints/oasis_ade20k_pretrained.zip’ saved [840707298/840707298]\n",
            "\n",
            "unzipping...\n",
            "finished successfuly!\n"
          ]
        }
      ]
    },
    {
      "cell_type": "markdown",
      "source": [
        "##retrieving the dataset\n",
        "It is possible to use the downloader script of the cityscapes dataset.  \n",
        "I have the cityscapes dataset on my google drive.  \n",
        "Notice that the datset requires an approved account in order to download."
      ],
      "metadata": {
        "id": "Hr6UYtiPgKf6"
      }
    },
    {
      "cell_type": "code",
      "execution_count": null,
      "metadata": {
        "id": "b-6x7gkCfMn9"
      },
      "outputs": [],
      "source": [
        "download_dataset = False"
      ]
    },
    {
      "cell_type": "code",
      "source": [
        "if download_dataset:\n",
        "  cityscapes_dir = root_project_directory + \"/datasets/cityscapes\"\n",
        "  ! csDownload leftImg8bit_trainvaltest.zip -d {cityscapes_dir}\n",
        "  ! csDownload gtFine_trainvaltest.zip -d {cityscapes_dir}\n",
        "  ! unzip -q {cityscapes_dir + \"/gtFine_trainvaltest.zip\"} -d {cityscapes_dir}\n",
        "  ! unzip -q {cityscapes_dir + \"/leftImg8bit_trainvaltest.zip\"} -d {cityscapes_dir}"
      ],
      "metadata": {
        "id": "ByoSxCy59_86"
      },
      "execution_count": null,
      "outputs": []
    },
    {
      "cell_type": "code",
      "source": [
        ""
      ],
      "metadata": {
        "id": "0yL8OZnQPuA4"
      },
      "execution_count": null,
      "outputs": []
    },
    {
      "cell_type": "markdown",
      "source": [
        "##Configure Arguments"
      ],
      "metadata": {
        "id": "jDWnVuAOkDd7"
      }
    },
    {
      "cell_type": "markdown",
      "source": [
        "Change the parameters that you want to change."
      ],
      "metadata": {
        "id": "wouaPksHiN41"
      }
    },
    {
      "cell_type": "code",
      "source": [
        "def custom_arguments(opt):\n",
        "  # user should change the default values of the options in this function\n",
        "  # opt.dataset_mode=cityscapes\n",
        "  opt.name = \"my_cityscapes_panoptic\"\n",
        "  opt.segmentation = \"panoptic\"\n",
        "  opt.continue_train = False\n",
        "  opt.num_epochs = 2\n",
        "  opt.gpu_ids= \"-1\"\n",
        "  opt.no_EMA = True\n",
        "  opt.freq_print = 100\n",
        "  pass\n"
      ],
      "metadata": {
        "id": "-omQCY88unun"
      },
      "execution_count": null,
      "outputs": []
    },
    {
      "cell_type": "markdown",
      "source": [
        "#### Do not change"
      ],
      "metadata": {
        "id": "nC2YvBcpiE65"
      }
    },
    {
      "cell_type": "code",
      "source": [
        "def get_default_opt(train):\n",
        "  #do not change these parameters\n",
        "  opt = SimpleNamespace(\n",
        "      #--- general options ---\n",
        "      name=\"oasis_cityscapes_pretrained\",                                     # name of the experiment. It decides where to store samples and models\n",
        "      seed=42,                                                                # random seed\n",
        "      segmentation=\"semantic\",                                                # use semantic or panoptic segmentation for training\n",
        "      gpu_ids='0',                                                            # gpu ids: e.g. 0  0,1,2, 0,2. use -1 for CPU\n",
        "      checkpoints_dir=root_project_directory+\"/pretrained_checkpoints\",       # models are saved here\n",
        "      no_spectral_norm=False,                                                 # this option deactivates spectral norm in all layers\n",
        "      batch_size=1,                                                           # input batch size\n",
        "      dataroot=root_project_directory+\"/datasets/cityscapes\",                 # path to dataset root\n",
        "      dataset_mode=\"cityscapes\",                                              # this option indicates which dataset should be loaded\n",
        "      no_flip=False,                                                          # if specified, do not flip the images for data argumentation\n",
        "      #--- generator options ---\n",
        "      num_res_blocks=6,                                                       # number of residual blocks in G and D\n",
        "      channels_G=64,                                                          # number of gen filters in first conv layer in generator\n",
        "      param_free_norm=\"syncbatch\",                                            # which norm to use in generator before SPADE\n",
        "      spade_ks=3,                                                             # kernel size of convs inside SPADE\n",
        "      no_EMA=False,                                                           # if specified, do *not* compute exponential moving averages\n",
        "      EMA_decay=0.9999,                                                       # decay in exponential moving averages\n",
        "      no_3dnoise=False,                                                       # if specified, do *not* concatenate noise to label maps\n",
        "      z_dim=64)                                                               # dimension of the latent z vector\n",
        "  \n",
        "  if train:\n",
        "    opt_extra = SimpleNamespace(\n",
        "        freq_print=1000,                                                      # frequency of showing training results\n",
        "        freq_save_ckpt=20000,                                                 # frequency of saving the checkpoints\n",
        "        freq_save_latest=10000,                                               # frequency of saving the latest model\n",
        "        freq_smooth_loss=250,                                                 # smoothing window for loss visualization\n",
        "        freq_save_loss=2500,                                                  # frequency of loss plot updates\n",
        "        freq_fid=5000,                                                        # frequency of saving the fid score (in training iterations)\n",
        "        continue_train=True,                                                 # resume previously interrupted training\n",
        "        which_iter='latest',                                                  # which epoch to load when continue_train\n",
        "        num_epochs=10,                                                       # number of epochs to train\n",
        "        beta1=0.0,                                                            # momentum term of adam\n",
        "        beta2=0.999,                                                          # momentum term of adam\n",
        "        lr_g=0.0001,                                                          # G learning rate\n",
        "        lr_d=0.0004,                                                          # D learning rate\n",
        "\n",
        "        channels_D=64,                                                        # number of discrim filters in first conv layer in discriminator\n",
        "        add_vgg_loss=False,                                                   # if specified, add VGG feature matching loss\n",
        "        lambda_vgg=10.0,                                                      # weight for VGG loss\n",
        "        no_balancing_inloss=False,                                            # if specified, do *not* use class balancing in the loss function\n",
        "        no_labelmix=False,                                                    # if specified, do *not* use LabelMix\n",
        "        lambda_labelmix=10.0                                                  # weight for LabelMix regularization\n",
        "    )\n",
        "  else:\n",
        "    opt_extra = SimpleNamespace(\n",
        "        results_dir=root_project_directory+\"/results/\",                       # saves testing results here.\n",
        "        ckpt_iter='best'                                                      # which epoch to load to evaluate a model\n",
        "    )\n",
        "  \n",
        "  opt = SimpleNamespace(**opt.__dict__, **opt_extra.__dict__)       # conactenate all options\n",
        "  opt.phase = 'train' if train else 'test'\n",
        "  opt.loaded_latest_iter=None;\n",
        "  \n",
        "  return opt"
      ],
      "metadata": {
        "id": "y7tnlSz_nRex"
      },
      "execution_count": null,
      "outputs": []
    },
    {
      "cell_type": "code",
      "source": [
        "def set_dataset_default_lm(opt):\n",
        "  #set default values based on given dataset\n",
        "  if opt.dataset_mode == \"ade20k\":\n",
        "      opt.lambda_labelmix=10.0\n",
        "      opt.EMA_decay=0.9999\n",
        "  if opt.dataset_mode == \"cityscapes\":\n",
        "      opt.lr_g=0.0004\n",
        "      opt.lambda_labelmix=5.0\n",
        "      opt.freq_fid=2500\n",
        "      opt.EMA_decay=0.999\n",
        "  if opt.dataset_mode == \"coco\":\n",
        "      opt.lambda_labelmix=10.0\n",
        "      opt.EMA_decay=0.9999\n",
        "      opt.num_epochs=100"
      ],
      "metadata": {
        "id": "O-zxUVtWkXq-"
      },
      "execution_count": null,
      "outputs": []
    },
    {
      "cell_type": "markdown",
      "source": [
        "#####hide"
      ],
      "metadata": {
        "id": "dhT2RHJcgcPo"
      }
    },
    {
      "cell_type": "code",
      "source": [
        "import pickle\n",
        "\n",
        "def configure_arguments(train=False):\n",
        "  #set default values\n",
        "  opt = get_default_opt(train)\n",
        "  custom_arguments(opt)\n",
        "  if train:\n",
        "    set_dataset_default_lm(opt)\n",
        "    if opt.continue_train:\n",
        "      update_options_from_file(opt)\n",
        "    custom_arguments(opt)\n",
        "  \n",
        "\n",
        "  utils.fix_seed(opt.seed)\n",
        "  print_options(opt, train)\n",
        "  if train:\n",
        "    opt.loaded_latest_iter = 0 if not opt.continue_train else config.load_iter(opt)\n",
        "  if train:\n",
        "    save_options(opt, train)\n",
        "  return opt"
      ],
      "metadata": {
        "id": "-j9ZKoYKkCXR"
      },
      "execution_count": null,
      "outputs": []
    },
    {
      "cell_type": "code",
      "source": [
        "# need to change the other functions\n",
        "def update_options_from_file(opt):\n",
        "  new_opt = config.load_options(opt)\n",
        "  for k, v in sorted(vars(opt).items()):\n",
        "    if hasattr(new_opt, k) and v != getattr(new_opt, k):\n",
        "      new_val = getattr(new_opt, k)\n",
        "      setattr(opt, k, new_val)\n",
        "\n",
        "\n",
        "def print_options(opt, train):\n",
        "    message = ''\n",
        "    message += '----------------- Options ---------------\\n'\n",
        "    default_opt = get_default_opt(train)\n",
        "    for k, v in sorted(vars(opt).items()):\n",
        "        comment = ''\n",
        "        \n",
        "        default = getattr(default_opt, k)\n",
        "        if v != default:\n",
        "            comment = '\\t[default: %s]' % str(default)\n",
        "        message += '{:>25}: {:<30}{}\\n'.format(str(k), str(v), comment)\n",
        "    message += '----------------- End -------------------'\n",
        "    print(message)\n",
        "\n",
        "def save_options(opt, train):\n",
        "    path_name = os.path.join(opt.checkpoints_dir,opt.name)\n",
        "    os.makedirs(path_name, exist_ok=True)\n",
        "    default_opt = get_default_opt(train)\n",
        "    with open(path_name + '/opt.txt', 'wt') as opt_file:\n",
        "        for k, v in sorted(vars(opt).items()):\n",
        "            comment = ''\n",
        "            default = getattr(default_opt, k)\n",
        "            if v != default:\n",
        "                comment = '\\t[default: %s]' % str(default)\n",
        "            opt_file.write('{:>25}: {:<30}{}\\n'.format(str(k), str(v), comment))\n",
        "\n",
        "    with open(path_name + '/opt.pkl', 'wb') as opt_file:\n",
        "        pickle.dump(opt, opt_file)"
      ],
      "metadata": {
        "id": "rdfzUg2oxHPd"
      },
      "execution_count": null,
      "outputs": []
    },
    {
      "cell_type": "markdown",
      "source": [
        "#####tpu utils"
      ],
      "metadata": {
        "id": "UsgmmpFqp5Y0"
      }
    },
    {
      "cell_type": "code",
      "source": [
        "\"\"\"\n",
        "import torch_xla.core.xla_model as xm\n",
        "import torch_xla.distributed.xla_multiprocessing as xmp\n",
        "import torch_xla.distributed.parallel_loader as pl\n",
        "\n",
        "def put_on_multi_tpus(model, opt):\n",
        "    if opt.gpu_ids != \"-1\":\n",
        "        gpus = list(map(int, opt.gpu_ids.split(\",\")))\n",
        "        model = DataParallelWithCallback(model, device_ids=gpus).cuda()\n",
        "    else:\n",
        "        model.module = model\n",
        "    assert len(opt.gpu_ids.split(\",\")) == 0 or opt.batch_size % len(opt.gpu_ids.split(\",\")) == 0\n",
        "    return model\n",
        "\n",
        "train_sampler = torch.utils.data.distributed.DistributedSampler(\n",
        "    train_dataset,\n",
        "    num_replicas=xm.xrt_world_size(),\n",
        "    rank=xm.get_ordinal(),\n",
        "    shuffle=True)\n",
        "  \n",
        "test_sampler = torch.utils.data.distributed.DistributedSampler(\n",
        "    test_dataset,\n",
        "    num_replicas=xm.xrt_world_size(),\n",
        "    rank=xm.get_ordinal(),\n",
        "    shuffle=False)\n",
        "\"\"\""
      ],
      "metadata": {
        "colab": {
          "base_uri": "https://localhost:8080/"
        },
        "id": "DhFu6OjwboUR",
        "outputId": "31f81122-9149-44af-f251-16d6f214996a"
      },
      "execution_count": null,
      "outputs": [
        {
          "output_type": "execute_result",
          "data": {
            "text/plain": [
              "'\\nimport torch_xla.core.xla_model as xm\\nimport torch_xla.distributed.xla_multiprocessing as xmp\\nimport torch_xla.distributed.parallel_loader as pl\\n\\ndef put_on_multi_tpus(model, opt):\\n    if opt.gpu_ids != \"-1\":\\n        gpus = list(map(int, opt.gpu_ids.split(\",\")))\\n        model = DataParallelWithCallback(model, device_ids=gpus).cuda()\\n    else:\\n        model.module = model\\n    assert len(opt.gpu_ids.split(\",\")) == 0 or opt.batch_size % len(opt.gpu_ids.split(\",\")) == 0\\n    return model\\n\\ntrain_sampler = torch.utils.data.distributed.DistributedSampler(\\n    train_dataset,\\n    num_replicas=xm.xrt_world_size(),\\n    rank=xm.get_ordinal(),\\n    shuffle=True)\\n  \\ntest_sampler = torch.utils.data.distributed.DistributedSampler(\\n    test_dataset,\\n    num_replicas=xm.xrt_world_size(),\\n    rank=xm.get_ordinal(),\\n    shuffle=False)\\n'"
            ],
            "application/vnd.google.colaboratory.intrinsic+json": {
              "type": "string"
            }
          },
          "metadata": {},
          "execution_count": 20
        }
      ]
    },
    {
      "cell_type": "markdown",
      "source": [
        "##Train the dataset"
      ],
      "metadata": {
        "id": "93APrnDJjwmM"
      }
    },
    {
      "cell_type": "code",
      "source": [
        "def summarize_model():\n",
        "  opt = configure_arguments(train=True)\n",
        "  dataloader, dataloader_val = get_dataloaders(opt)\n",
        "  model = models.OASIS_model(opt)\n",
        "  image, label = models.preprocess_input(opt, iter(dataloader).next())\n",
        "  print(\"Generator Summary:\")\n",
        "  #label.size() = [batch_size, opt.semantic_nc, h, w]\n",
        "  print(summary(model.netG, label.size(), depth=7))\n",
        "  print(\"Discriminator Summary:\")\n",
        "  print(summary(model.netD, image.size(), depth=7))\n",
        "\n",
        "summarize_model()"
      ],
      "metadata": {
        "colab": {
          "base_uri": "https://localhost:8080/"
        },
        "id": "CkPTwhzBpfF8",
        "outputId": "736e3b25-1b70-4505-84cf-1fd27441198f"
      },
      "execution_count": null,
      "outputs": [
        {
          "output_type": "stream",
          "name": "stdout",
          "text": [
            "----------------- Options ---------------\n",
            "                EMA_decay: 0.999                         \t[default: 0.9999]\n",
            "             add_vgg_loss: False                         \n",
            "               batch_size: 1                             \n",
            "                    beta1: 0.0                           \n",
            "                    beta2: 0.999                         \n",
            "               channels_D: 64                            \n",
            "               channels_G: 64                            \n",
            "          checkpoints_dir: /content/drive/MyDrive/ProjectGAN/pretrained_checkpoints\n",
            "           continue_train: False                         \t[default: True]\n",
            "                 dataroot: /content/drive/MyDrive/ProjectGAN/datasets/cityscapes\n",
            "             dataset_mode: cityscapes                    \n",
            "                 freq_fid: 2500                          \t[default: 5000]\n",
            "               freq_print: 1000                          \n",
            "           freq_save_ckpt: 20000                         \n",
            "         freq_save_latest: 10000                         \n",
            "           freq_save_loss: 2500                          \n",
            "         freq_smooth_loss: 250                           \n",
            "                  gpu_ids: -1                            \t[default: 0]\n",
            "          lambda_labelmix: 5.0                           \t[default: 10.0]\n",
            "               lambda_vgg: 10.0                          \n",
            "       loaded_latest_iter: None                          \n",
            "                     lr_d: 0.0004                        \n",
            "                     lr_g: 0.0004                        \t[default: 0.0001]\n",
            "                     name: my_cityscapes_train           \t[default: oasis_cityscapes_pretrained]\n",
            "               no_3dnoise: False                         \n",
            "                   no_EMA: False                         \n",
            "      no_balancing_inloss: False                         \n",
            "                  no_flip: False                         \n",
            "              no_labelmix: False                         \n",
            "         no_spectral_norm: False                         \n",
            "               num_epochs: 2                             \t[default: 10]\n",
            "           num_res_blocks: 6                             \n",
            "          param_free_norm: syncbatch                     \n",
            "                    phase: train                         \n",
            "                     seed: 42                            \n",
            "                 spade_ks: 3                             \n",
            "               which_iter: latest                        \n",
            "                    z_dim: 64                            \n",
            "----------------- End -------------------\n",
            "Created CityscapesDataset, size train: 2975, size val: 500\n",
            "Created OASIS_Generator with 71107523 parameters\n",
            "Created OASIS_Discriminator with 22251364 parameters\n"
          ]
        },
        {
          "output_type": "stream",
          "name": "stderr",
          "text": [
            "/usr/local/lib/python3.7/dist-packages/torchvision/transforms/functional.py:405: UserWarning: Argument interpolation should be of type InterpolationMode instead of int. Please, use InterpolationMode enum.\n",
            "  \"Argument interpolation should be of type InterpolationMode instead of int. \"\n"
          ]
        },
        {
          "output_type": "stream",
          "name": "stdout",
          "text": [
            "Generator Summary:\n"
          ]
        },
        {
          "output_type": "stream",
          "name": "stderr",
          "text": [
            "/usr/local/lib/python3.7/dist-packages/torch/nn/functional.py:1933: UserWarning: nn.functional.tanh is deprecated. Use torch.tanh instead.\n",
            "  warnings.warn(\"nn.functional.tanh is deprecated. Use torch.tanh instead.\")\n"
          ]
        },
        {
          "output_type": "stream",
          "name": "stdout",
          "text": [
            "====================================================================================================\n",
            "Layer (type:depth-idx)                             Output Shape              Param #\n",
            "====================================================================================================\n",
            "OASIS_Generator                                    --                        --\n",
            "├─ModuleList: 1-1                                  --                        --\n",
            "├─Conv2d: 1-2                                      [1, 1024, 8, 16]          913,408\n",
            "├─ModuleList: 1-1                                  --                        --\n",
            "│    └─ResnetBlock_with_SPADE: 2-1                 [1, 1024, 8, 16]          --\n",
            "│    │    └─SPADE: 3-1                             [1, 1024, 8, 16]          --\n",
            "│    │    │    └─SynchronizedBatchNorm2d: 4-1      [1, 1024, 8, 16]          --\n",
            "│    │    │    └─Sequential: 4-2                   [1, 128, 8, 16]           --\n",
            "│    │    │    │    └─Conv2d: 5-1                  [1, 128, 8, 16]           114,176\n",
            "│    │    │    │    └─ReLU: 5-2                    [1, 128, 8, 16]           --\n",
            "│    │    │    └─Conv2d: 4-3                       [1, 1024, 8, 16]          1,180,672\n",
            "│    │    │    └─Conv2d: 4-4                       [1, 1024, 8, 16]          1,180,672\n",
            "│    │    └─LeakyReLU: 3-2                         [1, 1024, 8, 16]          --\n",
            "│    │    └─Conv2d: 3-3                            [1, 1024, 8, 16]          9,438,208\n",
            "│    │    └─SPADE: 3-4                             [1, 1024, 8, 16]          --\n",
            "│    │    │    └─SynchronizedBatchNorm2d: 4-5      [1, 1024, 8, 16]          --\n",
            "│    │    │    └─Sequential: 4-6                   [1, 128, 8, 16]           --\n",
            "│    │    │    │    └─Conv2d: 5-3                  [1, 128, 8, 16]           114,176\n",
            "│    │    │    │    └─ReLU: 5-4                    [1, 128, 8, 16]           --\n",
            "│    │    │    └─Conv2d: 4-7                       [1, 1024, 8, 16]          1,180,672\n",
            "│    │    │    └─Conv2d: 4-8                       [1, 1024, 8, 16]          1,180,672\n",
            "│    │    └─LeakyReLU: 3-5                         [1, 1024, 8, 16]          --\n",
            "│    │    └─Conv2d: 3-6                            [1, 1024, 8, 16]          9,438,208\n",
            "├─Upsample: 1-3                                    [1, 1024, 16, 32]         --\n",
            "├─ModuleList: 1-1                                  --                        --\n",
            "│    └─ResnetBlock_with_SPADE: 2-2                 [1, 1024, 16, 32]         --\n",
            "│    │    └─SPADE: 3-7                             [1, 1024, 16, 32]         --\n",
            "│    │    │    └─SynchronizedBatchNorm2d: 4-9      [1, 1024, 16, 32]         --\n",
            "│    │    │    └─Sequential: 4-10                  [1, 128, 16, 32]          --\n",
            "│    │    │    │    └─Conv2d: 5-5                  [1, 128, 16, 32]          114,176\n",
            "│    │    │    │    └─ReLU: 5-6                    [1, 128, 16, 32]          --\n",
            "│    │    │    └─Conv2d: 4-11                      [1, 1024, 16, 32]         1,180,672\n",
            "│    │    │    └─Conv2d: 4-12                      [1, 1024, 16, 32]         1,180,672\n",
            "│    │    └─LeakyReLU: 3-8                         [1, 1024, 16, 32]         --\n",
            "│    │    └─Conv2d: 3-9                            [1, 1024, 16, 32]         9,438,208\n",
            "│    │    └─SPADE: 3-10                            [1, 1024, 16, 32]         --\n",
            "│    │    │    └─SynchronizedBatchNorm2d: 4-13     [1, 1024, 16, 32]         --\n",
            "│    │    │    └─Sequential: 4-14                  [1, 128, 16, 32]          --\n",
            "│    │    │    │    └─Conv2d: 5-7                  [1, 128, 16, 32]          114,176\n",
            "│    │    │    │    └─ReLU: 5-8                    [1, 128, 16, 32]          --\n",
            "│    │    │    └─Conv2d: 4-15                      [1, 1024, 16, 32]         1,180,672\n",
            "│    │    │    └─Conv2d: 4-16                      [1, 1024, 16, 32]         1,180,672\n",
            "│    │    └─LeakyReLU: 3-11                        [1, 1024, 16, 32]         --\n",
            "│    │    └─Conv2d: 3-12                           [1, 1024, 16, 32]         9,438,208\n",
            "├─Upsample: 1-4                                    [1, 1024, 32, 64]         --\n",
            "├─ModuleList: 1-1                                  --                        --\n",
            "│    └─ResnetBlock_with_SPADE: 2-3                 [1, 512, 32, 64]          --\n",
            "│    │    └─SPADE: 3-13                            [1, 1024, 32, 64]         --\n",
            "│    │    │    └─SynchronizedBatchNorm2d: 4-17     [1, 1024, 32, 64]         --\n",
            "│    │    │    └─Sequential: 4-18                  [1, 128, 32, 64]          --\n",
            "│    │    │    │    └─Conv2d: 5-9                  [1, 128, 32, 64]          114,176\n",
            "│    │    │    │    └─ReLU: 5-10                   [1, 128, 32, 64]          --\n",
            "│    │    │    └─Conv2d: 4-19                      [1, 1024, 32, 64]         1,180,672\n",
            "│    │    │    └─Conv2d: 4-20                      [1, 1024, 32, 64]         1,180,672\n",
            "│    │    └─Conv2d: 3-14                           [1, 512, 32, 64]          524,288\n",
            "│    │    └─SPADE: 3-15                            [1, 1024, 32, 64]         --\n",
            "│    │    │    └─SynchronizedBatchNorm2d: 4-21     [1, 1024, 32, 64]         --\n",
            "│    │    │    └─Sequential: 4-22                  [1, 128, 32, 64]          --\n",
            "│    │    │    │    └─Conv2d: 5-11                 [1, 128, 32, 64]          114,176\n",
            "│    │    │    │    └─ReLU: 5-12                   [1, 128, 32, 64]          --\n",
            "│    │    │    └─Conv2d: 4-23                      [1, 1024, 32, 64]         1,180,672\n",
            "│    │    │    └─Conv2d: 4-24                      [1, 1024, 32, 64]         1,180,672\n",
            "│    │    └─LeakyReLU: 3-16                        [1, 1024, 32, 64]         --\n",
            "│    │    └─Conv2d: 3-17                           [1, 512, 32, 64]          4,719,104\n",
            "│    │    └─SPADE: 3-18                            [1, 512, 32, 64]          --\n",
            "│    │    │    └─SynchronizedBatchNorm2d: 4-25     [1, 512, 32, 64]          --\n",
            "│    │    │    └─Sequential: 4-26                  [1, 128, 32, 64]          --\n",
            "│    │    │    │    └─Conv2d: 5-13                 [1, 128, 32, 64]          114,176\n",
            "│    │    │    │    └─ReLU: 5-14                   [1, 128, 32, 64]          --\n",
            "│    │    │    └─Conv2d: 4-27                      [1, 512, 32, 64]          590,336\n",
            "│    │    │    └─Conv2d: 4-28                      [1, 512, 32, 64]          590,336\n",
            "│    │    └─LeakyReLU: 3-19                        [1, 512, 32, 64]          --\n",
            "│    │    └─Conv2d: 3-20                           [1, 512, 32, 64]          2,359,808\n",
            "├─Upsample: 1-5                                    [1, 512, 64, 128]         --\n",
            "├─ModuleList: 1-1                                  --                        --\n",
            "│    └─ResnetBlock_with_SPADE: 2-4                 [1, 256, 64, 128]         --\n",
            "│    │    └─SPADE: 3-21                            [1, 512, 64, 128]         --\n",
            "│    │    │    └─SynchronizedBatchNorm2d: 4-29     [1, 512, 64, 128]         --\n",
            "│    │    │    └─Sequential: 4-30                  [1, 128, 64, 128]         --\n",
            "│    │    │    │    └─Conv2d: 5-15                 [1, 128, 64, 128]         114,176\n",
            "│    │    │    │    └─ReLU: 5-16                   [1, 128, 64, 128]         --\n",
            "│    │    │    └─Conv2d: 4-31                      [1, 512, 64, 128]         590,336\n",
            "│    │    │    └─Conv2d: 4-32                      [1, 512, 64, 128]         590,336\n",
            "│    │    └─Conv2d: 3-22                           [1, 256, 64, 128]         131,072\n",
            "│    │    └─SPADE: 3-23                            [1, 512, 64, 128]         --\n",
            "│    │    │    └─SynchronizedBatchNorm2d: 4-33     [1, 512, 64, 128]         --\n",
            "│    │    │    └─Sequential: 4-34                  [1, 128, 64, 128]         --\n",
            "│    │    │    │    └─Conv2d: 5-17                 [1, 128, 64, 128]         114,176\n",
            "│    │    │    │    └─ReLU: 5-18                   [1, 128, 64, 128]         --\n",
            "│    │    │    └─Conv2d: 4-35                      [1, 512, 64, 128]         590,336\n",
            "│    │    │    └─Conv2d: 4-36                      [1, 512, 64, 128]         590,336\n",
            "│    │    └─LeakyReLU: 3-24                        [1, 512, 64, 128]         --\n",
            "│    │    └─Conv2d: 3-25                           [1, 256, 64, 128]         1,179,904\n",
            "│    │    └─SPADE: 3-26                            [1, 256, 64, 128]         --\n",
            "│    │    │    └─SynchronizedBatchNorm2d: 4-37     [1, 256, 64, 128]         --\n",
            "│    │    │    └─Sequential: 4-38                  [1, 128, 64, 128]         --\n",
            "│    │    │    │    └─Conv2d: 5-19                 [1, 128, 64, 128]         114,176\n",
            "│    │    │    │    └─ReLU: 5-20                   [1, 128, 64, 128]         --\n",
            "│    │    │    └─Conv2d: 4-39                      [1, 256, 64, 128]         295,168\n",
            "│    │    │    └─Conv2d: 4-40                      [1, 256, 64, 128]         295,168\n",
            "│    │    └─LeakyReLU: 3-27                        [1, 256, 64, 128]         --\n",
            "│    │    └─Conv2d: 3-28                           [1, 256, 64, 128]         590,080\n",
            "├─Upsample: 1-6                                    [1, 256, 128, 256]        --\n",
            "├─ModuleList: 1-1                                  --                        --\n",
            "│    └─ResnetBlock_with_SPADE: 2-5                 [1, 128, 128, 256]        --\n",
            "│    │    └─SPADE: 3-29                            [1, 256, 128, 256]        --\n",
            "│    │    │    └─SynchronizedBatchNorm2d: 4-41     [1, 256, 128, 256]        --\n",
            "│    │    │    └─Sequential: 4-42                  [1, 128, 128, 256]        --\n",
            "│    │    │    │    └─Conv2d: 5-21                 [1, 128, 128, 256]        114,176\n",
            "│    │    │    │    └─ReLU: 5-22                   [1, 128, 128, 256]        --\n",
            "│    │    │    └─Conv2d: 4-43                      [1, 256, 128, 256]        295,168\n",
            "│    │    │    └─Conv2d: 4-44                      [1, 256, 128, 256]        295,168\n",
            "│    │    └─Conv2d: 3-30                           [1, 128, 128, 256]        32,768\n",
            "│    │    └─SPADE: 3-31                            [1, 256, 128, 256]        --\n",
            "│    │    │    └─SynchronizedBatchNorm2d: 4-45     [1, 256, 128, 256]        --\n",
            "│    │    │    └─Sequential: 4-46                  [1, 128, 128, 256]        --\n",
            "│    │    │    │    └─Conv2d: 5-23                 [1, 128, 128, 256]        114,176\n",
            "│    │    │    │    └─ReLU: 5-24                   [1, 128, 128, 256]        --\n",
            "│    │    │    └─Conv2d: 4-47                      [1, 256, 128, 256]        295,168\n",
            "│    │    │    └─Conv2d: 4-48                      [1, 256, 128, 256]        295,168\n",
            "│    │    └─LeakyReLU: 3-32                        [1, 256, 128, 256]        --\n",
            "│    │    └─Conv2d: 3-33                           [1, 128, 128, 256]        295,040\n",
            "│    │    └─SPADE: 3-34                            [1, 128, 128, 256]        --\n",
            "│    │    │    └─SynchronizedBatchNorm2d: 4-49     [1, 128, 128, 256]        --\n",
            "│    │    │    └─Sequential: 4-50                  [1, 128, 128, 256]        --\n",
            "│    │    │    │    └─Conv2d: 5-25                 [1, 128, 128, 256]        114,176\n",
            "│    │    │    │    └─ReLU: 5-26                   [1, 128, 128, 256]        --\n",
            "│    │    │    └─Conv2d: 4-51                      [1, 128, 128, 256]        147,584\n",
            "│    │    │    └─Conv2d: 4-52                      [1, 128, 128, 256]        147,584\n",
            "│    │    └─LeakyReLU: 3-35                        [1, 128, 128, 256]        --\n",
            "│    │    └─Conv2d: 3-36                           [1, 128, 128, 256]        147,584\n",
            "├─Upsample: 1-7                                    [1, 128, 256, 512]        --\n",
            "├─ModuleList: 1-1                                  --                        --\n",
            "│    └─ResnetBlock_with_SPADE: 2-6                 [1, 64, 256, 512]         --\n",
            "│    │    └─SPADE: 3-37                            [1, 128, 256, 512]        --\n",
            "│    │    │    └─SynchronizedBatchNorm2d: 4-53     [1, 128, 256, 512]        --\n",
            "│    │    │    └─Sequential: 4-54                  [1, 128, 256, 512]        --\n",
            "│    │    │    │    └─Conv2d: 5-27                 [1, 128, 256, 512]        114,176\n",
            "│    │    │    │    └─ReLU: 5-28                   [1, 128, 256, 512]        --\n",
            "│    │    │    └─Conv2d: 4-55                      [1, 128, 256, 512]        147,584\n",
            "│    │    │    └─Conv2d: 4-56                      [1, 128, 256, 512]        147,584\n",
            "│    │    └─Conv2d: 3-38                           [1, 64, 256, 512]         8,192\n",
            "│    │    └─SPADE: 3-39                            [1, 128, 256, 512]        --\n",
            "│    │    │    └─SynchronizedBatchNorm2d: 4-57     [1, 128, 256, 512]        --\n",
            "│    │    │    └─Sequential: 4-58                  [1, 128, 256, 512]        --\n",
            "│    │    │    │    └─Conv2d: 5-29                 [1, 128, 256, 512]        114,176\n",
            "│    │    │    │    └─ReLU: 5-30                   [1, 128, 256, 512]        --\n",
            "│    │    │    └─Conv2d: 4-59                      [1, 128, 256, 512]        147,584\n",
            "│    │    │    └─Conv2d: 4-60                      [1, 128, 256, 512]        147,584\n",
            "│    │    └─LeakyReLU: 3-40                        [1, 128, 256, 512]        --\n",
            "│    │    └─Conv2d: 3-41                           [1, 64, 256, 512]         73,792\n",
            "│    │    └─SPADE: 3-42                            [1, 64, 256, 512]         --\n",
            "│    │    │    └─SynchronizedBatchNorm2d: 4-61     [1, 64, 256, 512]         --\n",
            "│    │    │    └─Sequential: 4-62                  [1, 128, 256, 512]        --\n",
            "│    │    │    │    └─Conv2d: 5-31                 [1, 128, 256, 512]        114,176\n",
            "│    │    │    │    └─ReLU: 5-32                   [1, 128, 256, 512]        --\n",
            "│    │    │    └─Conv2d: 4-63                      [1, 64, 256, 512]         73,792\n",
            "│    │    │    └─Conv2d: 4-64                      [1, 64, 256, 512]         73,792\n",
            "│    │    └─LeakyReLU: 3-43                        [1, 64, 256, 512]         --\n",
            "│    │    └─Conv2d: 3-44                           [1, 64, 256, 512]         36,928\n",
            "├─Conv2d: 1-8                                      [1, 3, 256, 512]          1,731\n",
            "====================================================================================================\n",
            "Total params: 71,107,523\n",
            "Trainable params: 71,107,523\n",
            "Non-trainable params: 0\n",
            "Total mult-adds (G): 287.63\n",
            "====================================================================================================\n",
            "Input size (MB): 18.35\n",
            "Forward/backward pass size (MB): 2207.51\n",
            "Params size (MB): 284.43\n",
            "Estimated Total Size (MB): 2510.29\n",
            "====================================================================================================\n",
            "Discriminator Summary:\n",
            "==========================================================================================\n",
            "Layer (type:depth-idx)                   Output Shape              Param #\n",
            "==========================================================================================\n",
            "OASIS_Discriminator                      --                        --\n",
            "├─ModuleList: 1-1                        --                        --\n",
            "├─ModuleList: 1-2                        --                        --\n",
            "│    └─residual_block_D: 2-1             [1, 128, 128, 256]        --\n",
            "│    │    └─AvgPool2d: 3-1               [1, 3, 128, 256]          --\n",
            "│    │    └─Conv2d: 3-2                  [1, 128, 128, 256]        512\n",
            "│    │    └─Sequential: 3-3              [1, 128, 256, 512]        --\n",
            "│    │    │    └─Conv2d: 4-1             [1, 128, 256, 512]        3,584\n",
            "│    │    └─Sequential: 3-4              [1, 128, 256, 512]        --\n",
            "│    │    │    └─LeakyReLU: 4-2          [1, 128, 256, 512]        --\n",
            "│    │    │    └─Conv2d: 4-3             [1, 128, 256, 512]        147,584\n",
            "│    │    └─AvgPool2d: 3-5               [1, 128, 128, 256]        --\n",
            "│    └─residual_block_D: 2-2             [1, 128, 64, 128]         --\n",
            "│    │    └─AvgPool2d: 3-6               [1, 128, 64, 128]         --\n",
            "│    │    └─Sequential: 3-7              [1, 128, 128, 256]        --\n",
            "│    │    │    └─LeakyReLU: 4-4          [1, 128, 128, 256]        --\n",
            "│    │    │    └─Conv2d: 4-5             [1, 128, 128, 256]        147,584\n",
            "│    │    └─Sequential: 3-8              [1, 128, 128, 256]        --\n",
            "│    │    │    └─LeakyReLU: 4-6          [1, 128, 128, 256]        --\n",
            "│    │    │    └─Conv2d: 4-7             [1, 128, 128, 256]        147,584\n",
            "│    │    └─AvgPool2d: 3-9               [1, 128, 64, 128]         --\n",
            "│    └─residual_block_D: 2-3             [1, 256, 32, 64]          --\n",
            "│    │    └─Conv2d: 3-10                 [1, 256, 64, 128]         33,024\n",
            "│    │    └─AvgPool2d: 3-11              [1, 256, 32, 64]          --\n",
            "│    │    └─Sequential: 3-12             [1, 256, 64, 128]         --\n",
            "│    │    │    └─LeakyReLU: 4-8          [1, 128, 64, 128]         --\n",
            "│    │    │    └─Conv2d: 4-9             [1, 256, 64, 128]         295,168\n",
            "│    │    └─Sequential: 3-13             [1, 256, 64, 128]         --\n",
            "│    │    │    └─LeakyReLU: 4-10         [1, 256, 64, 128]         --\n",
            "│    │    │    └─Conv2d: 4-11            [1, 256, 64, 128]         590,080\n",
            "│    │    └─AvgPool2d: 3-14              [1, 256, 32, 64]          --\n",
            "│    └─residual_block_D: 2-4             [1, 256, 16, 32]          --\n",
            "│    │    └─AvgPool2d: 3-15              [1, 256, 16, 32]          --\n",
            "│    │    └─Sequential: 3-16             [1, 256, 32, 64]          --\n",
            "│    │    │    └─LeakyReLU: 4-12         [1, 256, 32, 64]          --\n",
            "│    │    │    └─Conv2d: 4-13            [1, 256, 32, 64]          590,080\n",
            "│    │    └─Sequential: 3-17             [1, 256, 32, 64]          --\n",
            "│    │    │    └─LeakyReLU: 4-14         [1, 256, 32, 64]          --\n",
            "│    │    │    └─Conv2d: 4-15            [1, 256, 32, 64]          590,080\n",
            "│    │    └─AvgPool2d: 3-18              [1, 256, 16, 32]          --\n",
            "│    └─residual_block_D: 2-5             [1, 512, 8, 16]           --\n",
            "│    │    └─Conv2d: 3-19                 [1, 512, 16, 32]          131,584\n",
            "│    │    └─AvgPool2d: 3-20              [1, 512, 8, 16]           --\n",
            "│    │    └─Sequential: 3-21             [1, 512, 16, 32]          --\n",
            "│    │    │    └─LeakyReLU: 4-16         [1, 256, 16, 32]          --\n",
            "│    │    │    └─Conv2d: 4-17            [1, 512, 16, 32]          1,180,160\n",
            "│    │    └─Sequential: 3-22             [1, 512, 16, 32]          --\n",
            "│    │    │    └─LeakyReLU: 4-18         [1, 512, 16, 32]          --\n",
            "│    │    │    └─Conv2d: 4-19            [1, 512, 16, 32]          2,359,808\n",
            "│    │    └─AvgPool2d: 3-23              [1, 512, 8, 16]           --\n",
            "│    └─residual_block_D: 2-6             [1, 512, 4, 8]            --\n",
            "│    │    └─AvgPool2d: 3-24              [1, 512, 4, 8]            --\n",
            "│    │    └─Sequential: 3-25             [1, 512, 8, 16]           --\n",
            "│    │    │    └─LeakyReLU: 4-20         [1, 512, 8, 16]           --\n",
            "│    │    │    └─Conv2d: 4-21            [1, 512, 8, 16]           2,359,808\n",
            "│    │    └─Sequential: 3-26             [1, 512, 8, 16]           --\n",
            "│    │    │    └─LeakyReLU: 4-22         [1, 512, 8, 16]           --\n",
            "│    │    │    └─Conv2d: 4-23            [1, 512, 8, 16]           2,359,808\n",
            "│    │    └─AvgPool2d: 3-27              [1, 512, 4, 8]            --\n",
            "├─ModuleList: 1-1                        --                        --\n",
            "│    └─residual_block_D: 2-7             [1, 512, 8, 16]           --\n",
            "│    │    └─Upsample: 3-28               [1, 512, 8, 16]           --\n",
            "│    │    └─Sequential: 3-29             [1, 512, 8, 16]           --\n",
            "│    │    │    └─LeakyReLU: 4-24         [1, 512, 4, 8]            --\n",
            "│    │    │    └─Upsample: 4-25          [1, 512, 8, 16]           --\n",
            "│    │    │    └─Conv2d: 4-26            [1, 512, 8, 16]           2,359,808\n",
            "│    │    └─Sequential: 3-30             [1, 512, 8, 16]           --\n",
            "│    │    │    └─LeakyReLU: 4-27         [1, 512, 8, 16]           --\n",
            "│    │    │    └─Conv2d: 4-28            [1, 512, 8, 16]           2,359,808\n",
            "│    └─residual_block_D: 2-8             [1, 256, 16, 32]          --\n",
            "│    │    └─Upsample: 3-31               [1, 1024, 16, 32]         --\n",
            "│    │    └─Conv2d: 3-32                 [1, 256, 16, 32]          262,400\n",
            "│    │    └─Sequential: 3-33             [1, 256, 16, 32]          --\n",
            "│    │    │    └─LeakyReLU: 4-29         [1, 1024, 8, 16]          --\n",
            "│    │    │    └─Upsample: 4-30          [1, 1024, 16, 32]         --\n",
            "│    │    │    └─Conv2d: 4-31            [1, 256, 16, 32]          2,359,552\n",
            "│    │    └─Sequential: 3-34             [1, 256, 16, 32]          --\n",
            "│    │    │    └─LeakyReLU: 4-32         [1, 256, 16, 32]          --\n",
            "│    │    │    └─Conv2d: 4-33            [1, 256, 16, 32]          590,080\n",
            "│    └─residual_block_D: 2-9             [1, 256, 32, 64]          --\n",
            "│    │    └─Upsample: 3-35               [1, 512, 32, 64]          --\n",
            "│    │    └─Conv2d: 3-36                 [1, 256, 32, 64]          131,328\n",
            "│    │    └─Sequential: 3-37             [1, 256, 32, 64]          --\n",
            "│    │    │    └─LeakyReLU: 4-34         [1, 512, 16, 32]          --\n",
            "│    │    │    └─Upsample: 4-35          [1, 512, 32, 64]          --\n",
            "│    │    │    └─Conv2d: 4-36            [1, 256, 32, 64]          1,179,904\n",
            "│    │    └─Sequential: 3-38             [1, 256, 32, 64]          --\n",
            "│    │    │    └─LeakyReLU: 4-37         [1, 256, 32, 64]          --\n",
            "│    │    │    └─Conv2d: 4-38            [1, 256, 32, 64]          590,080\n",
            "│    └─residual_block_D: 2-10            [1, 128, 64, 128]         --\n",
            "│    │    └─Upsample: 3-39               [1, 512, 64, 128]         --\n",
            "│    │    └─Conv2d: 3-40                 [1, 128, 64, 128]         65,664\n",
            "│    │    └─Sequential: 3-41             [1, 128, 64, 128]         --\n",
            "│    │    │    └─LeakyReLU: 4-39         [1, 512, 32, 64]          --\n",
            "│    │    │    └─Upsample: 4-40          [1, 512, 64, 128]         --\n",
            "│    │    │    └─Conv2d: 4-41            [1, 128, 64, 128]         589,952\n",
            "│    │    └─Sequential: 3-42             [1, 128, 64, 128]         --\n",
            "│    │    │    └─LeakyReLU: 4-42         [1, 128, 64, 128]         --\n",
            "│    │    │    └─Conv2d: 4-43            [1, 128, 64, 128]         147,584\n",
            "│    └─residual_block_D: 2-11            [1, 128, 128, 256]        --\n",
            "│    │    └─Upsample: 3-43               [1, 256, 128, 256]        --\n",
            "│    │    └─Conv2d: 3-44                 [1, 128, 128, 256]        32,896\n",
            "│    │    └─Sequential: 3-45             [1, 128, 128, 256]        --\n",
            "│    │    │    └─LeakyReLU: 4-44         [1, 256, 64, 128]         --\n",
            "│    │    │    └─Upsample: 4-45          [1, 256, 128, 256]        --\n",
            "│    │    │    └─Conv2d: 4-46            [1, 128, 128, 256]        295,040\n",
            "│    │    └─Sequential: 3-46             [1, 128, 128, 256]        --\n",
            "│    │    │    └─LeakyReLU: 4-47         [1, 128, 128, 256]        --\n",
            "│    │    │    └─Conv2d: 4-48            [1, 128, 128, 256]        147,584\n",
            "│    └─residual_block_D: 2-12            [1, 64, 256, 512]         --\n",
            "│    │    └─Upsample: 3-47               [1, 256, 256, 512]        --\n",
            "│    │    └─Conv2d: 3-48                 [1, 64, 256, 512]         16,448\n",
            "│    │    └─Sequential: 3-49             [1, 64, 256, 512]         --\n",
            "│    │    │    └─LeakyReLU: 4-49         [1, 256, 128, 256]        --\n",
            "│    │    │    └─Upsample: 4-50          [1, 256, 256, 512]        --\n",
            "│    │    │    └─Conv2d: 4-51            [1, 64, 256, 512]         147,520\n",
            "│    │    └─Sequential: 3-50             [1, 64, 256, 512]         --\n",
            "│    │    │    └─LeakyReLU: 4-52         [1, 64, 256, 512]         --\n",
            "│    │    │    └─Conv2d: 4-53            [1, 64, 256, 512]         36,928\n",
            "├─Conv2d: 1-3                            [1, 36, 256, 512]         2,340\n",
            "==========================================================================================\n",
            "Total params: 22,251,364\n",
            "Trainable params: 22,251,364\n",
            "Non-trainable params: 0\n",
            "Total mult-adds (G): 9.19\n",
            "==========================================================================================\n",
            "Input size (MB): 1.57\n",
            "Forward/backward pass size (MB): 816.84\n",
            "Params size (MB): 89.01\n",
            "Estimated Total Size (MB): 907.42\n",
            "==========================================================================================\n"
          ]
        }
      ]
    },
    {
      "cell_type": "code",
      "source": [
        "#--- read options ---#\n",
        "opt = configure_arguments(train=True)\n",
        "\n",
        "#--- create utils ---#\n",
        "timer = utils.timer(opt)\n",
        "visualizer_losses = utils.losses_saver(opt)\n",
        "losses_computer = losses.losses_computer(opt)\n",
        "dataloader, dataloader_val = get_dataloaders(opt)\n",
        "im_saver = utils.image_saver(opt)\n",
        "fid_computer = fid_pytorch(opt, dataloader_val)   #problem with tpus\n",
        "\n",
        "#--- create models ---#\n",
        "print(\"creating models\")\n",
        "model = models.OASIS_model(opt)\n",
        "model = models.put_on_multi_gpus(model, opt)\n",
        "\n",
        "#--- create optimizers ---#\n",
        "optimizerG = torch.optim.Adam(model.module.netG.parameters(), lr=opt.lr_g, betas=(opt.beta1, opt.beta2))\n",
        "optimizerD = torch.optim.Adam(model.module.netD.parameters(), lr=opt.lr_d, betas=(opt.beta1, opt.beta2))\n",
        "\n",
        "#--- the training loop ---#\n",
        "already_started = False\n",
        "start_epoch, start_iter = utils.get_start_iters(opt.loaded_latest_iter, len(dataloader))\n",
        "for epoch in range(start_epoch, opt.num_epochs):\n",
        "    for i, data_i in enumerate(dataloader):\n",
        "        if not already_started and i < start_iter:\n",
        "            continue\n",
        "        already_started = True\n",
        "        cur_iter = epoch*len(dataloader) + i\n",
        "        image, label = models.preprocess_input(opt, data_i)\n",
        "\n",
        "        #--- generator update ---#\n",
        "        model.module.netG.zero_grad()\n",
        "        loss_G, losses_G_list = model.forward(image, label, \"losses_G\", losses_computer)\n",
        "        loss_G, losses_G_list = loss_G.mean(), [loss.mean() if loss is not None else None for loss in losses_G_list]\n",
        "        loss_G.backward()\n",
        "        optimizerG.step()\n",
        "\n",
        "        #--- discriminator update ---#\n",
        "        model.module.netD.zero_grad()\n",
        "        loss_D, losses_D_list = model.forward(image, label, \"losses_D\", losses_computer)\n",
        "        loss_D, losses_D_list = loss_D.mean(), [loss.mean() if loss is not None else None for loss in losses_D_list]\n",
        "        loss_D.backward()\n",
        "        optimizerD.step()\n",
        "\n",
        "        #--- stats update ---#\n",
        "        if not opt.no_EMA:\n",
        "            utils.update_EMA(model, cur_iter, dataloader, opt)\n",
        "        if cur_iter % opt.freq_print == 0:\n",
        "            im_saver.visualize_batch(model, image, label, cur_iter)\n",
        "            timer(epoch, cur_iter)\n",
        "        if cur_iter % opt.freq_save_ckpt == 0:\n",
        "            utils.save_networks(opt, cur_iter, model)\n",
        "        if cur_iter % opt.freq_save_latest == 0:\n",
        "            utils.save_networks(opt, cur_iter, model, latest=True)\n",
        "        if cur_iter % opt.freq_fid == 0 and cur_iter > 0:\n",
        "            is_best = fid_computer.update(model, cur_iter)\n",
        "            if is_best:\n",
        "                utils.save_networks(opt, cur_iter, model, best=True)\n",
        "        visualizer_losses(cur_iter, losses_G_list+losses_D_list)\n",
        "\n",
        "#--- after training ---#\n",
        "utils.update_EMA(model, cur_iter, dataloader, opt, force_run_stats=True)\n",
        "utils.save_networks(opt, cur_iter, model)\n",
        "utils.save_networks(opt, cur_iter, model, latest=True)\n",
        "is_best = fid_computer.update(model, cur_iter)\n",
        "if is_best:\n",
        "    utils.save_networks(opt, cur_iter, model, best=True)\n",
        "\n",
        "print(\"The training has successfully finished\")"
      ],
      "metadata": {
        "colab": {
          "base_uri": "https://localhost:8080/",
          "height": 1000,
          "referenced_widgets": [
            "15c5c25faddb489789627c4dbd58d171",
            "1e06757b40f34d2ea359ca0fbab49c16",
            "53992606b33a4fd1bd6a99c62ff55228",
            "766a3d3c288b4d2cb17b762c51678fd0",
            "b947a0510a2a451a983b39d0c6a64b19",
            "a3c84d36854b4bff89fdff1911e0d456",
            "dc2d8e086b9b4ca987ef34993f2d4a72",
            "c6980dacdf79439991650e3f2abadceb",
            "0e984620056949b1b561adb0cba26dc6",
            "2f5c5fbe85a841089a91cc80e8bc1d98",
            "0bfb031ba87841cbb09f96ba058eea0d"
          ]
        },
        "id": "hvTTJRLZj16f",
        "outputId": "d506e894-17df-481b-c7fa-a33e87d43d84"
      },
      "execution_count": null,
      "outputs": [
        {
          "output_type": "stream",
          "name": "stdout",
          "text": [
            "----------------- Options ---------------\n",
            "                EMA_decay: 0.999                         \t[default: 0.9999]\n",
            "             add_vgg_loss: False                         \n",
            "               batch_size: 1                             \n",
            "                    beta1: 0.0                           \n",
            "                    beta2: 0.999                         \n",
            "               channels_D: 64                            \n",
            "               channels_G: 64                            \n",
            "          checkpoints_dir: /content/drive/MyDrive/ProjectGAN/pretrained_checkpoints\n",
            "           continue_train: False                         \t[default: True]\n",
            "                 dataroot: /content/drive/MyDrive/ProjectGAN/datasets/cityscapes\n",
            "             dataset_mode: cityscapes                    \n",
            "                 freq_fid: 2500                          \t[default: 5000]\n",
            "               freq_print: 100                           \t[default: 1000]\n",
            "           freq_save_ckpt: 20000                         \n",
            "         freq_save_latest: 10000                         \n",
            "           freq_save_loss: 2500                          \n",
            "         freq_smooth_loss: 250                           \n",
            "                  gpu_ids: -1                            \t[default: 0]\n",
            "          lambda_labelmix: 5.0                           \t[default: 10.0]\n",
            "               lambda_vgg: 10.0                          \n",
            "       loaded_latest_iter: None                          \n",
            "                     lr_d: 0.0004                        \n",
            "                     lr_g: 0.0004                        \t[default: 0.0001]\n",
            "                     name: my_cityscapes_panoptic        \t[default: oasis_cityscapes_pretrained]\n",
            "               no_3dnoise: False                         \n",
            "                   no_EMA: True                          \t[default: False]\n",
            "      no_balancing_inloss: False                         \n",
            "                  no_flip: False                         \n",
            "              no_labelmix: False                         \n",
            "         no_spectral_norm: False                         \n",
            "               num_epochs: 2                             \t[default: 10]\n",
            "           num_res_blocks: 6                             \n",
            "          param_free_norm: syncbatch                     \n",
            "                    phase: train                         \n",
            "                     seed: 42                            \n",
            "             segmentation: panoptic                      \t[default: semantic]\n",
            "                 spade_ks: 3                             \n",
            "               which_iter: latest                        \n",
            "                    z_dim: 64                            \n",
            "----------------- End -------------------\n",
            "getting panoptic datasets\n",
            "Created CityscapesDataset, size train: 2975, size val: 500\n"
          ]
        },
        {
          "output_type": "stream",
          "name": "stderr",
          "text": [
            "/usr/local/lib/python3.7/dist-packages/torchvision/models/inception.py:48: FutureWarning: The default weight initialization of inception_v3 will be changed in future releases of torchvision. If you wish to keep the old behavior (which leads to long initialization times due to scipy/scipy#11299), please set init_weights=True.\n",
            "  FutureWarning,\n",
            "Downloading: \"https://github.com/mseitzer/pytorch-fid/releases/download/fid_weights/pt_inception-2015-12-05-6726825d.pth\" to /root/.cache/torch/hub/checkpoints/pt_inception-2015-12-05-6726825d.pth\n"
          ]
        },
        {
          "output_type": "display_data",
          "data": {
            "text/plain": [
              "  0%|          | 0.00/91.2M [00:00<?, ?B/s]"
            ],
            "application/vnd.jupyter.widget-view+json": {
              "version_major": 2,
              "version_minor": 0,
              "model_id": "15c5c25faddb489789627c4dbd58d171"
            }
          },
          "metadata": {}
        },
        {
          "output_type": "stream",
          "name": "stdout",
          "text": [
            "--- Now computing Inception activations for real set ---\n"
          ]
        },
        {
          "output_type": "stream",
          "name": "stderr",
          "text": [
            "/usr/local/lib/python3.7/dist-packages/torchvision/transforms/functional.py:424: UserWarning: Argument interpolation should be of type InterpolationMode instead of int. Please, use InterpolationMode enum.\n",
            "  \"Argument interpolation should be of type InterpolationMode instead of int. \"\n"
          ]
        },
        {
          "output_type": "stream",
          "name": "stdout",
          "text": [
            "--- Finished FID stats for real set ---\n",
            "creating models\n",
            "Created OASIS_Generator with 71107523 parameters\n",
            "Created OASIS_Discriminator with 22251364 parameters\n"
          ]
        },
        {
          "output_type": "error",
          "ename": "RuntimeError",
          "evalue": "ignored",
          "traceback": [
            "\u001b[0;31m---------------------------------------------------------------------------\u001b[0m",
            "\u001b[0;31mRuntimeError\u001b[0m                              Traceback (most recent call last)",
            "\u001b[0;32m<ipython-input-14-3b7a61b17a38>\u001b[0m in \u001b[0;36m<module>\u001b[0;34m()\u001b[0m\n\u001b[1;32m     28\u001b[0m         \u001b[0malready_started\u001b[0m \u001b[0;34m=\u001b[0m \u001b[0;32mTrue\u001b[0m\u001b[0;34m\u001b[0m\u001b[0;34m\u001b[0m\u001b[0m\n\u001b[1;32m     29\u001b[0m         \u001b[0mcur_iter\u001b[0m \u001b[0;34m=\u001b[0m \u001b[0mepoch\u001b[0m\u001b[0;34m*\u001b[0m\u001b[0mlen\u001b[0m\u001b[0;34m(\u001b[0m\u001b[0mdataloader\u001b[0m\u001b[0;34m)\u001b[0m \u001b[0;34m+\u001b[0m \u001b[0mi\u001b[0m\u001b[0;34m\u001b[0m\u001b[0;34m\u001b[0m\u001b[0m\n\u001b[0;32m---> 30\u001b[0;31m         \u001b[0mimage\u001b[0m\u001b[0;34m,\u001b[0m \u001b[0mlabel\u001b[0m \u001b[0;34m=\u001b[0m \u001b[0mmodels\u001b[0m\u001b[0;34m.\u001b[0m\u001b[0mpreprocess_input\u001b[0m\u001b[0;34m(\u001b[0m\u001b[0mopt\u001b[0m\u001b[0;34m,\u001b[0m \u001b[0mdata_i\u001b[0m\u001b[0;34m)\u001b[0m\u001b[0;34m\u001b[0m\u001b[0;34m\u001b[0m\u001b[0m\n\u001b[0m\u001b[1;32m     31\u001b[0m \u001b[0;34m\u001b[0m\u001b[0m\n\u001b[1;32m     32\u001b[0m         \u001b[0;31m#--- generator update ---#\u001b[0m\u001b[0;34m\u001b[0m\u001b[0;34m\u001b[0m\u001b[0;34m\u001b[0m\u001b[0m\n",
            "\u001b[0;32m/content/OASIS/models/models.py\u001b[0m in \u001b[0;36mpreprocess_input\u001b[0;34m(opt, data)\u001b[0m\n\u001b[1;32m    146\u001b[0m     \u001b[0;32melse\u001b[0m\u001b[0;34m:\u001b[0m\u001b[0;34m\u001b[0m\u001b[0;34m\u001b[0m\u001b[0m\n\u001b[1;32m    147\u001b[0m         \u001b[0minput_label\u001b[0m \u001b[0;34m=\u001b[0m \u001b[0mtorch\u001b[0m\u001b[0;34m.\u001b[0m\u001b[0mFloatTensor\u001b[0m\u001b[0;34m(\u001b[0m\u001b[0mbs\u001b[0m\u001b[0;34m,\u001b[0m \u001b[0mnc\u001b[0m\u001b[0;34m,\u001b[0m \u001b[0mh\u001b[0m\u001b[0;34m,\u001b[0m \u001b[0mw\u001b[0m\u001b[0;34m)\u001b[0m\u001b[0;34m.\u001b[0m\u001b[0mzero_\u001b[0m\u001b[0;34m(\u001b[0m\u001b[0;34m)\u001b[0m\u001b[0;34m\u001b[0m\u001b[0;34m\u001b[0m\u001b[0m\n\u001b[0;32m--> 148\u001b[0;31m     \u001b[0minput_semantics\u001b[0m \u001b[0;34m=\u001b[0m \u001b[0minput_label\u001b[0m\u001b[0;34m.\u001b[0m\u001b[0mscatter_\u001b[0m\u001b[0;34m(\u001b[0m\u001b[0;36m1\u001b[0m\u001b[0;34m,\u001b[0m \u001b[0mlabel_map\u001b[0m\u001b[0;34m,\u001b[0m \u001b[0;36m1.0\u001b[0m\u001b[0;34m)\u001b[0m\u001b[0;34m\u001b[0m\u001b[0;34m\u001b[0m\u001b[0m\n\u001b[0m\u001b[1;32m    149\u001b[0m     \u001b[0;32mreturn\u001b[0m \u001b[0mdata\u001b[0m\u001b[0;34m[\u001b[0m\u001b[0;34m'image'\u001b[0m\u001b[0;34m]\u001b[0m\u001b[0;34m,\u001b[0m \u001b[0minput_semantics\u001b[0m\u001b[0;34m\u001b[0m\u001b[0;34m\u001b[0m\u001b[0m\n\u001b[1;32m    150\u001b[0m \u001b[0;34m\u001b[0m\u001b[0m\n",
            "\u001b[0;31mRuntimeError\u001b[0m: index 144 is out of bounds for dimension 1 with size 35"
          ]
        }
      ]
    },
    {
      "cell_type": "markdown",
      "source": [
        "##Generate from input  \n",
        "Saves the generated images in the results directory."
      ],
      "metadata": {
        "id": "qWil4D1kQb3M"
      }
    },
    {
      "cell_type": "code",
      "source": [
        "\n",
        "#--- read options ---#\n",
        "opt = configure_arguments(train=False)\n",
        "\n",
        "#--- create dataloader ---#\n",
        "_, dataloader_val = dataloaders.get_dataloaders(opt)\n",
        "\n",
        "#--- create utils ---#\n",
        "image_saver = utils.results_saver(opt)\n",
        "fid_computer = fid_pytorch(opt, dataloader_val)\n",
        "\n",
        "\n",
        "#--- create models ---#\n",
        "model = models.OASIS_model(opt)\n",
        "model = models.put_on_multi_gpus(model, opt)\n",
        "model.eval()\n",
        "\n",
        "#--- caluculate fid ---#\n",
        "#fid_score = fid_computer.compute_fid_with_valid_path(netG?, netEMA?)\n",
        "\n",
        "#--- iterate over validation set ---#\n",
        "\n",
        "for i, data_i in enumerate(dataloader_val):\n",
        "    _, label = models.preprocess_input(opt, data_i)\n",
        "    generated = model(None, label, \"generate\", None)\n",
        "    image_saver(label, generated, data_i[\"name\"])"
      ],
      "metadata": {
        "id": "DqsKI8sFQbMU",
        "colab": {
          "base_uri": "https://localhost:8080/",
          "height": 432
        },
        "outputId": "4512e3ec-f724-40e9-824e-6f698f8702f4"
      },
      "execution_count": null,
      "outputs": [
        {
          "output_type": "stream",
          "name": "stdout",
          "text": [
            "Created CityscapesDataset, size train: 500, size val: 500\n",
            "Created OASIS_Generator with 71107523 parameters\n"
          ]
        },
        {
          "output_type": "error",
          "ename": "RuntimeError",
          "evalue": "ignored",
          "traceback": [
            "\u001b[0;31m---------------------------------------------------------------------------\u001b[0m",
            "\u001b[0;31mRuntimeError\u001b[0m                              Traceback (most recent call last)",
            "\u001b[0;32m<ipython-input-17-59a324dc3e95>\u001b[0m in \u001b[0;36m<module>\u001b[0;34m()\u001b[0m\n\u001b[1;32m     13\u001b[0m \u001b[0;34m\u001b[0m\u001b[0m\n\u001b[1;32m     14\u001b[0m \u001b[0;31m#--- create models ---#\u001b[0m\u001b[0;34m\u001b[0m\u001b[0;34m\u001b[0m\u001b[0;34m\u001b[0m\u001b[0m\n\u001b[0;32m---> 15\u001b[0;31m \u001b[0mmodel\u001b[0m \u001b[0;34m=\u001b[0m \u001b[0mmodels\u001b[0m\u001b[0;34m.\u001b[0m\u001b[0mOASIS_model\u001b[0m\u001b[0;34m(\u001b[0m\u001b[0mopt\u001b[0m\u001b[0;34m)\u001b[0m\u001b[0;34m\u001b[0m\u001b[0;34m\u001b[0m\u001b[0m\n\u001b[0m\u001b[1;32m     16\u001b[0m \u001b[0mmodel\u001b[0m \u001b[0;34m=\u001b[0m \u001b[0mmodels\u001b[0m\u001b[0;34m.\u001b[0m\u001b[0mput_on_multi_gpus\u001b[0m\u001b[0;34m(\u001b[0m\u001b[0mmodel\u001b[0m\u001b[0;34m,\u001b[0m \u001b[0mopt\u001b[0m\u001b[0;34m)\u001b[0m\u001b[0;34m\u001b[0m\u001b[0;34m\u001b[0m\u001b[0m\n\u001b[1;32m     17\u001b[0m \u001b[0mmodel\u001b[0m\u001b[0;34m.\u001b[0m\u001b[0meval\u001b[0m\u001b[0;34m(\u001b[0m\u001b[0;34m)\u001b[0m\u001b[0;34m\u001b[0m\u001b[0;34m\u001b[0m\u001b[0m\n",
            "\u001b[0;32m/content/OASIS/models/models.py\u001b[0m in \u001b[0;36m__init__\u001b[0;34m(self, opt)\u001b[0m\n\u001b[1;32m     24\u001b[0m             \u001b[0mself\u001b[0m\u001b[0;34m.\u001b[0m\u001b[0mnetEMA\u001b[0m \u001b[0;34m=\u001b[0m \u001b[0mcopy\u001b[0m\u001b[0;34m.\u001b[0m\u001b[0mdeepcopy\u001b[0m\u001b[0;34m(\u001b[0m\u001b[0mself\u001b[0m\u001b[0;34m.\u001b[0m\u001b[0mnetG\u001b[0m\u001b[0;34m)\u001b[0m \u001b[0;32mif\u001b[0m \u001b[0;32mnot\u001b[0m \u001b[0mopt\u001b[0m\u001b[0;34m.\u001b[0m\u001b[0mno_EMA\u001b[0m \u001b[0;32melse\u001b[0m \u001b[0;32mNone\u001b[0m\u001b[0;34m\u001b[0m\u001b[0;34m\u001b[0m\u001b[0m\n\u001b[1;32m     25\u001b[0m         \u001b[0;31m#--- load previous checkpoints if needed ---\u001b[0m\u001b[0;34m\u001b[0m\u001b[0;34m\u001b[0m\u001b[0;34m\u001b[0m\u001b[0m\n\u001b[0;32m---> 26\u001b[0;31m         \u001b[0mself\u001b[0m\u001b[0;34m.\u001b[0m\u001b[0mload_checkpoints\u001b[0m\u001b[0;34m(\u001b[0m\u001b[0;34m)\u001b[0m\u001b[0;34m\u001b[0m\u001b[0;34m\u001b[0m\u001b[0m\n\u001b[0m\u001b[1;32m     27\u001b[0m         \u001b[0;31m#--- perceptual loss ---#\u001b[0m\u001b[0;34m\u001b[0m\u001b[0;34m\u001b[0m\u001b[0;34m\u001b[0m\u001b[0m\n\u001b[1;32m     28\u001b[0m         \u001b[0;32mif\u001b[0m \u001b[0mopt\u001b[0m\u001b[0;34m.\u001b[0m\u001b[0mphase\u001b[0m \u001b[0;34m==\u001b[0m \u001b[0;34m\"train\"\u001b[0m\u001b[0;34m:\u001b[0m\u001b[0;34m\u001b[0m\u001b[0;34m\u001b[0m\u001b[0m\n",
            "\u001b[0;32m/content/OASIS/models/models.py\u001b[0m in \u001b[0;36mload_checkpoints\u001b[0;34m(self)\u001b[0m\n\u001b[1;32m     80\u001b[0m                 \u001b[0mself\u001b[0m\u001b[0;34m.\u001b[0m\u001b[0mnetG\u001b[0m\u001b[0;34m.\u001b[0m\u001b[0mload_state_dict\u001b[0m\u001b[0;34m(\u001b[0m\u001b[0mtorch\u001b[0m\u001b[0;34m.\u001b[0m\u001b[0mload\u001b[0m\u001b[0;34m(\u001b[0m\u001b[0mpath\u001b[0m \u001b[0;34m+\u001b[0m \u001b[0;34m\"G.pth\"\u001b[0m\u001b[0;34m)\u001b[0m\u001b[0;34m)\u001b[0m\u001b[0;34m\u001b[0m\u001b[0;34m\u001b[0m\u001b[0m\n\u001b[1;32m     81\u001b[0m             \u001b[0;32melse\u001b[0m\u001b[0;34m:\u001b[0m\u001b[0;34m\u001b[0m\u001b[0;34m\u001b[0m\u001b[0m\n\u001b[0;32m---> 82\u001b[0;31m                 \u001b[0mself\u001b[0m\u001b[0;34m.\u001b[0m\u001b[0mnetEMA\u001b[0m\u001b[0;34m.\u001b[0m\u001b[0mload_state_dict\u001b[0m\u001b[0;34m(\u001b[0m\u001b[0mtorch\u001b[0m\u001b[0;34m.\u001b[0m\u001b[0mload\u001b[0m\u001b[0;34m(\u001b[0m\u001b[0mpath\u001b[0m \u001b[0;34m+\u001b[0m \u001b[0;34m\"EMA.pth\"\u001b[0m\u001b[0;34m)\u001b[0m\u001b[0;34m)\u001b[0m\u001b[0;34m\u001b[0m\u001b[0;34m\u001b[0m\u001b[0m\n\u001b[0m\u001b[1;32m     83\u001b[0m         \u001b[0;32melif\u001b[0m \u001b[0mself\u001b[0m\u001b[0;34m.\u001b[0m\u001b[0mopt\u001b[0m\u001b[0;34m.\u001b[0m\u001b[0mcontinue_train\u001b[0m\u001b[0;34m:\u001b[0m\u001b[0;34m\u001b[0m\u001b[0;34m\u001b[0m\u001b[0m\n\u001b[1;32m     84\u001b[0m             \u001b[0mwhich_iter\u001b[0m \u001b[0;34m=\u001b[0m \u001b[0mself\u001b[0m\u001b[0;34m.\u001b[0m\u001b[0mopt\u001b[0m\u001b[0;34m.\u001b[0m\u001b[0mwhich_iter\u001b[0m\u001b[0;34m\u001b[0m\u001b[0;34m\u001b[0m\u001b[0m\n",
            "\u001b[0;32m/usr/local/lib/python3.7/dist-packages/torch/serialization.py\u001b[0m in \u001b[0;36mload\u001b[0;34m(f, map_location, pickle_module, **pickle_load_args)\u001b[0m\n\u001b[1;32m    606\u001b[0m                     \u001b[0;32mreturn\u001b[0m \u001b[0mtorch\u001b[0m\u001b[0;34m.\u001b[0m\u001b[0mjit\u001b[0m\u001b[0;34m.\u001b[0m\u001b[0mload\u001b[0m\u001b[0;34m(\u001b[0m\u001b[0mopened_file\u001b[0m\u001b[0;34m)\u001b[0m\u001b[0;34m\u001b[0m\u001b[0;34m\u001b[0m\u001b[0m\n\u001b[1;32m    607\u001b[0m                 \u001b[0;32mreturn\u001b[0m \u001b[0m_load\u001b[0m\u001b[0;34m(\u001b[0m\u001b[0mopened_zipfile\u001b[0m\u001b[0;34m,\u001b[0m \u001b[0mmap_location\u001b[0m\u001b[0;34m,\u001b[0m \u001b[0mpickle_module\u001b[0m\u001b[0;34m,\u001b[0m \u001b[0;34m**\u001b[0m\u001b[0mpickle_load_args\u001b[0m\u001b[0;34m)\u001b[0m\u001b[0;34m\u001b[0m\u001b[0;34m\u001b[0m\u001b[0m\n\u001b[0;32m--> 608\u001b[0;31m         \u001b[0;32mreturn\u001b[0m \u001b[0m_legacy_load\u001b[0m\u001b[0;34m(\u001b[0m\u001b[0mopened_file\u001b[0m\u001b[0;34m,\u001b[0m \u001b[0mmap_location\u001b[0m\u001b[0;34m,\u001b[0m \u001b[0mpickle_module\u001b[0m\u001b[0;34m,\u001b[0m \u001b[0;34m**\u001b[0m\u001b[0mpickle_load_args\u001b[0m\u001b[0;34m)\u001b[0m\u001b[0;34m\u001b[0m\u001b[0;34m\u001b[0m\u001b[0m\n\u001b[0m\u001b[1;32m    609\u001b[0m \u001b[0;34m\u001b[0m\u001b[0m\n\u001b[1;32m    610\u001b[0m \u001b[0;34m\u001b[0m\u001b[0m\n",
            "\u001b[0;32m/usr/local/lib/python3.7/dist-packages/torch/serialization.py\u001b[0m in \u001b[0;36m_legacy_load\u001b[0;34m(f, map_location, pickle_module, **pickle_load_args)\u001b[0m\n\u001b[1;32m    785\u001b[0m     \u001b[0munpickler\u001b[0m \u001b[0;34m=\u001b[0m \u001b[0mpickle_module\u001b[0m\u001b[0;34m.\u001b[0m\u001b[0mUnpickler\u001b[0m\u001b[0;34m(\u001b[0m\u001b[0mf\u001b[0m\u001b[0;34m,\u001b[0m \u001b[0;34m**\u001b[0m\u001b[0mpickle_load_args\u001b[0m\u001b[0;34m)\u001b[0m\u001b[0;34m\u001b[0m\u001b[0;34m\u001b[0m\u001b[0m\n\u001b[1;32m    786\u001b[0m     \u001b[0munpickler\u001b[0m\u001b[0;34m.\u001b[0m\u001b[0mpersistent_load\u001b[0m \u001b[0;34m=\u001b[0m \u001b[0mpersistent_load\u001b[0m\u001b[0;34m\u001b[0m\u001b[0;34m\u001b[0m\u001b[0m\n\u001b[0;32m--> 787\u001b[0;31m     \u001b[0mresult\u001b[0m \u001b[0;34m=\u001b[0m \u001b[0munpickler\u001b[0m\u001b[0;34m.\u001b[0m\u001b[0mload\u001b[0m\u001b[0;34m(\u001b[0m\u001b[0;34m)\u001b[0m\u001b[0;34m\u001b[0m\u001b[0;34m\u001b[0m\u001b[0m\n\u001b[0m\u001b[1;32m    788\u001b[0m \u001b[0;34m\u001b[0m\u001b[0m\n\u001b[1;32m    789\u001b[0m     \u001b[0mdeserialized_storage_keys\u001b[0m \u001b[0;34m=\u001b[0m \u001b[0mpickle_module\u001b[0m\u001b[0;34m.\u001b[0m\u001b[0mload\u001b[0m\u001b[0;34m(\u001b[0m\u001b[0mf\u001b[0m\u001b[0;34m,\u001b[0m \u001b[0;34m**\u001b[0m\u001b[0mpickle_load_args\u001b[0m\u001b[0;34m)\u001b[0m\u001b[0;34m\u001b[0m\u001b[0;34m\u001b[0m\u001b[0m\n",
            "\u001b[0;32m/usr/local/lib/python3.7/dist-packages/torch/serialization.py\u001b[0m in \u001b[0;36mpersistent_load\u001b[0;34m(saved_id)\u001b[0m\n\u001b[1;32m    741\u001b[0m                 \u001b[0mobj\u001b[0m \u001b[0;34m=\u001b[0m \u001b[0mdata_type\u001b[0m\u001b[0;34m(\u001b[0m\u001b[0msize\u001b[0m\u001b[0;34m)\u001b[0m\u001b[0;34m\u001b[0m\u001b[0;34m\u001b[0m\u001b[0m\n\u001b[1;32m    742\u001b[0m                 \u001b[0mobj\u001b[0m\u001b[0;34m.\u001b[0m\u001b[0m_torch_load_uninitialized\u001b[0m \u001b[0;34m=\u001b[0m \u001b[0;32mTrue\u001b[0m\u001b[0;34m\u001b[0m\u001b[0;34m\u001b[0m\u001b[0m\n\u001b[0;32m--> 743\u001b[0;31m                 \u001b[0mdeserialized_objects\u001b[0m\u001b[0;34m[\u001b[0m\u001b[0mroot_key\u001b[0m\u001b[0;34m]\u001b[0m \u001b[0;34m=\u001b[0m \u001b[0mrestore_location\u001b[0m\u001b[0;34m(\u001b[0m\u001b[0mobj\u001b[0m\u001b[0;34m,\u001b[0m \u001b[0mlocation\u001b[0m\u001b[0;34m)\u001b[0m\u001b[0;34m\u001b[0m\u001b[0;34m\u001b[0m\u001b[0m\n\u001b[0m\u001b[1;32m    744\u001b[0m             \u001b[0mstorage\u001b[0m \u001b[0;34m=\u001b[0m \u001b[0mdeserialized_objects\u001b[0m\u001b[0;34m[\u001b[0m\u001b[0mroot_key\u001b[0m\u001b[0;34m]\u001b[0m\u001b[0;34m\u001b[0m\u001b[0;34m\u001b[0m\u001b[0m\n\u001b[1;32m    745\u001b[0m             \u001b[0;32mif\u001b[0m \u001b[0mview_metadata\u001b[0m \u001b[0;32mis\u001b[0m \u001b[0;32mnot\u001b[0m \u001b[0;32mNone\u001b[0m\u001b[0;34m:\u001b[0m\u001b[0;34m\u001b[0m\u001b[0;34m\u001b[0m\u001b[0m\n",
            "\u001b[0;32m/usr/local/lib/python3.7/dist-packages/torch/serialization.py\u001b[0m in \u001b[0;36mdefault_restore_location\u001b[0;34m(storage, location)\u001b[0m\n\u001b[1;32m    173\u001b[0m \u001b[0;32mdef\u001b[0m \u001b[0mdefault_restore_location\u001b[0m\u001b[0;34m(\u001b[0m\u001b[0mstorage\u001b[0m\u001b[0;34m,\u001b[0m \u001b[0mlocation\u001b[0m\u001b[0;34m)\u001b[0m\u001b[0;34m:\u001b[0m\u001b[0;34m\u001b[0m\u001b[0;34m\u001b[0m\u001b[0m\n\u001b[1;32m    174\u001b[0m     \u001b[0;32mfor\u001b[0m \u001b[0m_\u001b[0m\u001b[0;34m,\u001b[0m \u001b[0m_\u001b[0m\u001b[0;34m,\u001b[0m \u001b[0mfn\u001b[0m \u001b[0;32min\u001b[0m \u001b[0m_package_registry\u001b[0m\u001b[0;34m:\u001b[0m\u001b[0;34m\u001b[0m\u001b[0;34m\u001b[0m\u001b[0m\n\u001b[0;32m--> 175\u001b[0;31m         \u001b[0mresult\u001b[0m \u001b[0;34m=\u001b[0m \u001b[0mfn\u001b[0m\u001b[0;34m(\u001b[0m\u001b[0mstorage\u001b[0m\u001b[0;34m,\u001b[0m \u001b[0mlocation\u001b[0m\u001b[0;34m)\u001b[0m\u001b[0;34m\u001b[0m\u001b[0;34m\u001b[0m\u001b[0m\n\u001b[0m\u001b[1;32m    176\u001b[0m         \u001b[0;32mif\u001b[0m \u001b[0mresult\u001b[0m \u001b[0;32mis\u001b[0m \u001b[0;32mnot\u001b[0m \u001b[0;32mNone\u001b[0m\u001b[0;34m:\u001b[0m\u001b[0;34m\u001b[0m\u001b[0;34m\u001b[0m\u001b[0m\n\u001b[1;32m    177\u001b[0m             \u001b[0;32mreturn\u001b[0m \u001b[0mresult\u001b[0m\u001b[0;34m\u001b[0m\u001b[0;34m\u001b[0m\u001b[0m\n",
            "\u001b[0;32m/usr/local/lib/python3.7/dist-packages/torch/serialization.py\u001b[0m in \u001b[0;36m_cuda_deserialize\u001b[0;34m(obj, location)\u001b[0m\n\u001b[1;32m    149\u001b[0m \u001b[0;32mdef\u001b[0m \u001b[0m_cuda_deserialize\u001b[0m\u001b[0;34m(\u001b[0m\u001b[0mobj\u001b[0m\u001b[0;34m,\u001b[0m \u001b[0mlocation\u001b[0m\u001b[0;34m)\u001b[0m\u001b[0;34m:\u001b[0m\u001b[0;34m\u001b[0m\u001b[0;34m\u001b[0m\u001b[0m\n\u001b[1;32m    150\u001b[0m     \u001b[0;32mif\u001b[0m \u001b[0mlocation\u001b[0m\u001b[0;34m.\u001b[0m\u001b[0mstartswith\u001b[0m\u001b[0;34m(\u001b[0m\u001b[0;34m'cuda'\u001b[0m\u001b[0;34m)\u001b[0m\u001b[0;34m:\u001b[0m\u001b[0;34m\u001b[0m\u001b[0;34m\u001b[0m\u001b[0m\n\u001b[0;32m--> 151\u001b[0;31m         \u001b[0mdevice\u001b[0m \u001b[0;34m=\u001b[0m \u001b[0mvalidate_cuda_device\u001b[0m\u001b[0;34m(\u001b[0m\u001b[0mlocation\u001b[0m\u001b[0;34m)\u001b[0m\u001b[0;34m\u001b[0m\u001b[0;34m\u001b[0m\u001b[0m\n\u001b[0m\u001b[1;32m    152\u001b[0m         \u001b[0;32mif\u001b[0m \u001b[0mgetattr\u001b[0m\u001b[0;34m(\u001b[0m\u001b[0mobj\u001b[0m\u001b[0;34m,\u001b[0m \u001b[0;34m\"_torch_load_uninitialized\"\u001b[0m\u001b[0;34m,\u001b[0m \u001b[0;32mFalse\u001b[0m\u001b[0;34m)\u001b[0m\u001b[0;34m:\u001b[0m\u001b[0;34m\u001b[0m\u001b[0;34m\u001b[0m\u001b[0m\n\u001b[1;32m    153\u001b[0m             \u001b[0mstorage_type\u001b[0m \u001b[0;34m=\u001b[0m \u001b[0mgetattr\u001b[0m\u001b[0;34m(\u001b[0m\u001b[0mtorch\u001b[0m\u001b[0;34m.\u001b[0m\u001b[0mcuda\u001b[0m\u001b[0;34m,\u001b[0m \u001b[0mtype\u001b[0m\u001b[0;34m(\u001b[0m\u001b[0mobj\u001b[0m\u001b[0;34m)\u001b[0m\u001b[0;34m.\u001b[0m\u001b[0m__name__\u001b[0m\u001b[0;34m)\u001b[0m\u001b[0;34m\u001b[0m\u001b[0;34m\u001b[0m\u001b[0m\n",
            "\u001b[0;32m/usr/local/lib/python3.7/dist-packages/torch/serialization.py\u001b[0m in \u001b[0;36mvalidate_cuda_device\u001b[0;34m(location)\u001b[0m\n\u001b[1;32m    133\u001b[0m \u001b[0;34m\u001b[0m\u001b[0m\n\u001b[1;32m    134\u001b[0m     \u001b[0;32mif\u001b[0m \u001b[0;32mnot\u001b[0m \u001b[0mtorch\u001b[0m\u001b[0;34m.\u001b[0m\u001b[0mcuda\u001b[0m\u001b[0;34m.\u001b[0m\u001b[0mis_available\u001b[0m\u001b[0;34m(\u001b[0m\u001b[0;34m)\u001b[0m\u001b[0;34m:\u001b[0m\u001b[0;34m\u001b[0m\u001b[0;34m\u001b[0m\u001b[0m\n\u001b[0;32m--> 135\u001b[0;31m         raise RuntimeError('Attempting to deserialize object on a CUDA '\n\u001b[0m\u001b[1;32m    136\u001b[0m                            \u001b[0;34m'device but torch.cuda.is_available() is False. '\u001b[0m\u001b[0;34m\u001b[0m\u001b[0;34m\u001b[0m\u001b[0m\n\u001b[1;32m    137\u001b[0m                            \u001b[0;34m'If you are running on a CPU-only machine, '\u001b[0m\u001b[0;34m\u001b[0m\u001b[0;34m\u001b[0m\u001b[0m\n",
            "\u001b[0;31mRuntimeError\u001b[0m: Attempting to deserialize object on a CUDA device but torch.cuda.is_available() is False. If you are running on a CPU-only machine, please use torch.load with map_location=torch.device('cpu') to map your storages to the CPU."
          ]
        }
      ]
    },
    {
      "cell_type": "markdown",
      "source": [
        "##Visualize"
      ],
      "metadata": {
        "id": "nXCmeYY-UStv"
      }
    },
    {
      "cell_type": "code",
      "source": [
        "#f, axs = plt.subplots(1, 2, figsize=(16, 20))\n",
        "image = opt.dataroot + \"/leftImg8bit/val/frankfurt/frankfurt_000000_011810_leftImg8bit.png\"\n",
        "evaluated_path = os.path.join(opt.results_dir, opt.name, opt.ckpt_iter)\n",
        "label = evaluated_path + \"/label/frankfurt_000000_011810_leftImg8bit.png\"\n",
        "fake = evaluated_path + \"/image/frankfurt_000000_011810_leftImg8bit.png\"\n",
        "\n",
        "plt.figure(figsize=(20, 4))\n",
        "grid_spec = gridspec.GridSpec(1, 4, width_ratios=[6, 6, 6, 1])\n",
        "\n",
        "plt.subplot(grid_spec[0])\n",
        "plt.imshow(Image.open(label))\n",
        "plt.axis('off')\n",
        "plt.title('input label')\n",
        "\n",
        "plt.subplot(grid_spec[1])\n",
        "plt.imshow(Image.open(fake))\n",
        "plt.axis('off')\n",
        "plt.title('generated image')\n",
        "\n",
        "plt.subplot(grid_spec[2])\n",
        "plt.imshow(Image.open(image))\n",
        "plt.axis('off')\n",
        "plt.title('real image')\n"
      ],
      "metadata": {
        "colab": {
          "base_uri": "https://localhost:8080/",
          "height": 235
        },
        "id": "f0SFhFZKaftq",
        "outputId": "21934eec-9f11-46ea-a545-6401e3bf7310"
      },
      "execution_count": null,
      "outputs": [
        {
          "output_type": "error",
          "ename": "NameError",
          "evalue": "ignored",
          "traceback": [
            "\u001b[0;31m---------------------------------------------------------------------------\u001b[0m",
            "\u001b[0;31mNameError\u001b[0m                                 Traceback (most recent call last)",
            "\u001b[0;32m<ipython-input-12-cf9aeeaadb70>\u001b[0m in \u001b[0;36m<module>\u001b[0;34m()\u001b[0m\n\u001b[1;32m      1\u001b[0m \u001b[0;31m#f, axs = plt.subplots(1, 2, figsize=(16, 20))\u001b[0m\u001b[0;34m\u001b[0m\u001b[0;34m\u001b[0m\u001b[0;34m\u001b[0m\u001b[0m\n\u001b[0;32m----> 2\u001b[0;31m \u001b[0mimage\u001b[0m \u001b[0;34m=\u001b[0m \u001b[0mopt\u001b[0m\u001b[0;34m.\u001b[0m\u001b[0mdataroot\u001b[0m \u001b[0;34m+\u001b[0m \u001b[0;34m\"/leftImg8bit/val/frankfurt/frankfurt_000000_011810_leftImg8bit.png\"\u001b[0m\u001b[0;34m\u001b[0m\u001b[0;34m\u001b[0m\u001b[0m\n\u001b[0m\u001b[1;32m      3\u001b[0m \u001b[0mevaluated_path\u001b[0m \u001b[0;34m=\u001b[0m \u001b[0mos\u001b[0m\u001b[0;34m.\u001b[0m\u001b[0mpath\u001b[0m\u001b[0;34m.\u001b[0m\u001b[0mjoin\u001b[0m\u001b[0;34m(\u001b[0m\u001b[0mopt\u001b[0m\u001b[0;34m.\u001b[0m\u001b[0mresults_dir\u001b[0m\u001b[0;34m,\u001b[0m \u001b[0mopt\u001b[0m\u001b[0;34m.\u001b[0m\u001b[0mname\u001b[0m\u001b[0;34m,\u001b[0m \u001b[0mopt\u001b[0m\u001b[0;34m.\u001b[0m\u001b[0mckpt_iter\u001b[0m\u001b[0;34m)\u001b[0m\u001b[0;34m\u001b[0m\u001b[0;34m\u001b[0m\u001b[0m\n\u001b[1;32m      4\u001b[0m \u001b[0mlabel\u001b[0m \u001b[0;34m=\u001b[0m \u001b[0mevaluated_path\u001b[0m \u001b[0;34m+\u001b[0m \u001b[0;34m\"/label/frankfurt_000000_011810_leftImg8bit.png\"\u001b[0m\u001b[0;34m\u001b[0m\u001b[0;34m\u001b[0m\u001b[0m\n\u001b[1;32m      5\u001b[0m \u001b[0mfake\u001b[0m \u001b[0;34m=\u001b[0m \u001b[0mevaluated_path\u001b[0m \u001b[0;34m+\u001b[0m \u001b[0;34m\"/image/frankfurt_000000_011810_leftImg8bit.png\"\u001b[0m\u001b[0;34m\u001b[0m\u001b[0;34m\u001b[0m\u001b[0m\n",
            "\u001b[0;31mNameError\u001b[0m: name 'opt' is not defined"
          ]
        }
      ]
    },
    {
      "cell_type": "code",
      "source": [
        "! csViewer"
      ],
      "metadata": {
        "colab": {
          "base_uri": "https://localhost:8080/"
        },
        "id": "0RrnE8rP7ejc",
        "outputId": "654b3716-ab62-447a-e899-4b74fbe38655"
      },
      "execution_count": null,
      "outputs": [
        {
          "output_type": "stream",
          "name": "stdout",
          "text": [
            "qt.qpa.xcb: could not connect to display \n",
            "qt.qpa.plugin: Could not load the Qt platform plugin \"xcb\" in \"\" even though it was found.\n",
            "This application failed to start because no Qt platform plugin could be initialized. Reinstalling the application may fix this problem.\n",
            "\n",
            "Available platform plugins are: eglfs, linuxfb, minimal, minimalegl, offscreen, vnc, wayland-egl, wayland, wayland-xcomposite-egl, wayland-xcomposite-glx, webgl, xcb.\n",
            "\n"
          ]
        }
      ]
    },
    {
      "cell_type": "markdown",
      "source": [
        "##Create Panoptic Images"
      ],
      "metadata": {
        "id": "RxhqbtkIbc9R"
      }
    },
    {
      "cell_type": "code",
      "source": [
        "! csCreateTrainIdLabelImgs \n",
        "! csCreatePanopticImgs --dataset-folder {cityscapes_dir} --output-folder {cityscapes_dir} --\n",
        "# not good because not all sections get an ID"
      ],
      "metadata": {
        "id": "qtULDzYdbccq"
      },
      "execution_count": null,
      "outputs": []
    },
    {
      "cell_type": "code",
      "source": [
        "cityscapes_dir = os.path.join(root_project_directory, \"/datasets/cityscapes/gtFine\")\n"
      ],
      "metadata": {
        "id": "Gv_ukgO_m9ut"
      },
      "execution_count": null,
      "outputs": []
    },
    {
      "cell_type": "code",
      "source": [
        "%%shell\n",
        "  # Set CITYSCAPES_DATASET to your dataset root.\n",
        "  # Create train ID label images.\n",
        "  CITYSCAPES_DATASET=\"/content/drive/MyDrive/ProjectGAN/datasets/cityscapes\" csCreateTrainIdLabelImgs\n",
        "  # To generate panoptic groundtruth, run the following command.\n",
        "  CITYSCAPES_DATASET=\"/content/drive/MyDrive/ProjectGAN/datasets/cityscapes\" csCreatePanopticImgs --use-train-id\n",
        "  # [Optional] Generate panoptic groundtruth with EvalId to match evaluation\n",
        "  # on the server. This step is not required for generating TFRecords.\n",
        "  CITYSCAPES_DATASET=\"/content/drive/MyDrive/ProjectGAN/datasets/cityscapes\" csCreatePanopticImgs"
      ],
      "metadata": {
        "id": "4hcX-jFxkk7R"
      },
      "execution_count": null,
      "outputs": []
    },
    {
      "cell_type": "markdown",
      "source": [
        "panoptic segmentation encoding taken from deeplab2: https://github.com/google-research/deeplab2/blob/main/data/build_cityscapes_data.py   \n",
        "\n",
        "\n",
        "---\n",
        "\n",
        "\n",
        "For panoptic segmentation, the encoded segmentation map will be the raw bytes of\n",
        "a int32 panoptic map, where each pixel is assigned to a panoptic ID. Unlike the\n",
        "ID used in Cityscapes script (`json2instanceImg.py`), this panoptic ID is\n",
        "computed by:\n",
        "\n",
        "```\n",
        "  panoptic ID = semantic ID * label divisor + instance ID\n",
        "```\n",
        "\n",
        "where semantic ID will be:\n",
        "\n",
        "*   ignore label (255) for pixels not belonging to any segment\n",
        "*   for segments associated with `iscrowd` label:\n",
        "    *   (default): ignore label (255)\n",
        "    *   (if set `--treat_crowd_as_ignore=false` while running\n",
        "        `build_cityscapes_data.py`): `category_id` (use TrainId)\n",
        "*   `category_id` (use TrainId) for other segments\n",
        "The instance ID will be 0 for pixels belonging to\n",
        "\n",
        "*   `stuff` class\n",
        "*   `thing` class with `iscrowd` label\n",
        "*   pixels with ignore label\n",
        "\n",
        "and `[1, label divisor)` otherwise."
      ],
      "metadata": {
        "id": "yvNkKpSw22Q0"
      }
    },
    {
      "cell_type": "code",
      "source": [
        "import tensorflow as tf\n",
        "import json\n",
        "import io\n",
        "import collections\n",
        "from PIL import ImageOps\n",
        "#import deeplab2\n",
        "from deeplab2.data import dataset\n",
        "\"\"\"\n",
        "DatasetDescriptor = collections.namedtuple(\n",
        "    'DatasetDescriptor', [\n",
        "        'dataset_name',  # Dataset name.\n",
        "        'splits_to_sizes',  # Splits of the dataset into training, val and test.\n",
        "        'num_classes',   # Number of semantic classes.\n",
        "        'ignore_label',  # Ignore label value used for semantic segmentation.\n",
        "\n",
        "        # Fields below are used for panoptic segmentation and will be None for\n",
        "        # Semantic segmentation datasets.\n",
        "        # Label divisor only used in panoptic segmentation annotation to infer\n",
        "        # semantic label and instance id.\n",
        "        'panoptic_label_divisor',\n",
        "        # A tuple of classes that contains instance annotations. For example,\n",
        "        # 'person' class has instance annotations while 'sky' does not.\n",
        "        'class_has_instances_list',\n",
        "        # A flag indicating whether the dataset is a video dataset that contains\n",
        "        # sequence IDs and frame IDs.\n",
        "        'is_video_dataset',\n",
        "        # A string specifying the colormap that should be used for\n",
        "        # visualization. E.g. 'cityscapes'.\n",
        "        'colormap',\n",
        "        # A flag indicating whether the dataset contains depth annotation.\n",
        "        'is_depth_dataset',\n",
        "        # The ignore label for depth annotations.\n",
        "        'ignore_depth',\n",
        "    ]\n",
        ")\n",
        "\n",
        "CITYSCAPES_COLORMAP = 'cityscapes'\n",
        "_CITYSCAPES_PANOPTIC = 'cityscapes_panoptic'\n",
        "CITYSCAPES_PANOPTIC_INFORMATION = DatasetDescriptor(\n",
        "    dataset_name=_CITYSCAPES_PANOPTIC,\n",
        "    splits_to_sizes={'train_fine': 2975,\n",
        "                     'val_fine': 500,\n",
        "                     'trainval_fine': 3475,\n",
        "                     'test_fine': 1525},\n",
        "    num_classes=19,\n",
        "    ignore_label=255,\n",
        "    panoptic_label_divisor=1000,\n",
        "    class_has_instances_list=tuple(range(11, 19)),\n",
        "    is_video_dataset=False,\n",
        "    colormap=CITYSCAPES_COLORMAP,\n",
        "    is_depth_dataset=False,\n",
        "    ignore_depth=None,\n",
        ")\n",
        "\"\"\"\n",
        "_NUM_SHARDS = 10\n",
        "_SPLITS_TO_SIZES = dataset.CITYSCAPES_PANOPTIC_INFORMATION.splits_to_sizes\n",
        "_IGNORE_LABEL = dataset.CITYSCAPES_PANOPTIC_INFORMATION.ignore_label\n",
        "_CLASS_HAS_INSTANCE_LIST = dataset.CITYSCAPES_PANOPTIC_INFORMATION.class_has_instances_list\n",
        "_PANOPTIC_LABEL_DIVISOR = dataset.CITYSCAPES_PANOPTIC_INFORMATION.panoptic_label_divisor\n",
        "\n",
        "# A map from data type to folder name that saves the data.\n",
        "_FOLDERS_MAP = {\n",
        "    'image': 'leftImg8bit',\n",
        "    'label': 'gtFine',\n",
        "}\n",
        "\n",
        "# A map from data type to filename postfix.\n",
        "_POSTFIX_MAP = {\n",
        "    'image': '_leftImg8bit',\n",
        "    'label': '_gtFine_labelTrainIds',\n",
        "}\n",
        "\n",
        "# A map from data type to data format.\n",
        "_DATA_FORMAT_MAP = {\n",
        "    'image': 'png',\n",
        "    'label': 'png',\n",
        "}\n",
        "_PANOPTIC_LABEL_FORMAT = 'raw'\n"
      ],
      "metadata": {
        "id": "Ge_nR4es9Y1c"
      },
      "execution_count": null,
      "outputs": []
    },
    {
      "cell_type": "markdown",
      "source": [
        "###not needed currently"
      ],
      "metadata": {
        "id": "mQED3UJpB-Gm"
      }
    },
    {
      "cell_type": "code",
      "source": [
        "def _get_images(cityscapes_root, dataset_split):\n",
        "  \"\"\"Gets files for the specified data type and dataset split.\n",
        "  Args:\n",
        "    cityscapes_root: String, path to Cityscapes dataset root folder.\n",
        "    dataset_split: String, dataset split ('train', 'val', 'test')\n",
        "  Returns:\n",
        "    A list of sorted file names or None when getting label for\n",
        "      test set.\n",
        "  \"\"\"\n",
        "  search_files = os.path.join(cityscapes_root, \"leftImg8bit\", dataset_split, '*', \"_leftImg8bit.png\")\n",
        "  filenames = tf.io.gfile.glob(search_files)\n",
        "  return sorted(filenames)"
      ],
      "metadata": {
        "id": "xo94Ymzfc7Vk"
      },
      "execution_count": null,
      "outputs": []
    },
    {
      "cell_type": "code",
      "source": [
        "def _convert_dataset(cityscapes_root, dataset_split, output_dir, create_panoptic_data):\n",
        "  \"\"\"Converts the specified dataset split to TFRecord format.\n",
        "  Args:\n",
        "    cityscapes_root: String, path to Cityscapes dataset root folder.\n",
        "    dataset_split: String, the dataset split (one of `train`, `val` and `test`).\n",
        "    output_dir: String, directory to write output TFRecords to.\n",
        "  Raises:\n",
        "    RuntimeError: If loaded image and label have different shape, or if the\n",
        "      image file with specified postfix could not be found.\n",
        "  \"\"\"\n",
        "  image_files = _get_images(cityscapes_root, dataset_split)\n",
        "\n",
        "  num_images = len(image_files)\n",
        "  expected_dataset_size = 2975 if dataset_split == \"train\" else 500\n",
        "  if num_images != expected_dataset_size:\n",
        "    raise ValueError('Expects %d images, gets %d' %\n",
        "                     (expected_dataset_size, num_images))\n",
        "  segments_dict = None\n",
        "  if create_panoptic_data:\n",
        "    segments_dict = _read_segments(cityscapes_root, dataset_split)\n",
        "\n",
        "  num_per_shard = int(math.ceil(len(image_files) / _NUM_SHARDS))\n",
        "  #up here all good\n",
        "\n",
        "  for shard_id in range(_NUM_SHARDS):\n",
        "    shard_filename = '%s-%05d-of-%05d.tfrecord' % (\n",
        "        dataset_split, shard_id, _NUM_SHARDS)\n",
        "    output_filename = os.path.join(output_dir, shard_filename)\n",
        "    with tf.io.TFRecordWriter(output_filename) as tfrecord_writer:\n",
        "      start_idx = shard_id * num_per_shard\n",
        "      end_idx = min((shard_id + 1) * num_per_shard, num_images)\n",
        "      for i in range(start_idx, end_idx):\n",
        "        # Read the image.\n",
        "        with tf.io.gfile.GFile(image_files[i], 'rb') as f:\n",
        "          image_data = f.read()\n",
        "\n",
        "        if dataset_split == 'test':\n",
        "          label_data, label_format = None, None\n",
        "        elif FLAGS.create_panoptic_data:\n",
        "          label_data, label_format = _create_panoptic_label(\n",
        "              image_files[i], segments_dict)\n",
        "        else:\n",
        "          label_data, label_format = _create_semantic_label(image_files[i])\n",
        "\n",
        "        # Convert to tf example.\n",
        "        _, _, _, file_prefix = _split_image_path(image_files[i])\n",
        "        example = data_utils.create_tfexample(image_data,\n",
        "                                              _DATA_FORMAT_MAP['image'],\n",
        "                                              file_prefix, label_data,\n",
        "                                              label_format)\n",
        "\n",
        "        tfrecord_writer.write(example.SerializeToString())\n"
      ],
      "metadata": {
        "id": "BGLbwEUrbiuz"
      },
      "execution_count": null,
      "outputs": []
    },
    {
      "cell_type": "markdown",
      "source": [
        "### create a panoptic segmentation for a single file"
      ],
      "metadata": {
        "id": "hGrrc43MCEJA"
      }
    },
    {
      "cell_type": "code",
      "source": [
        "def read_image(image_data):\n",
        "  \"\"\"Decodes image from in-memory data.\n",
        "  Args:\n",
        "    image_data: Bytes data representing encoded image.\n",
        "  Returns:\n",
        "    Decoded PIL.Image object.\n",
        "  \"\"\"\n",
        "  image = Image.open(io.BytesIO(image_data))\n",
        "\n",
        "  try:\n",
        "    image = ImageOps.exif_transpose(image)    #keeps the image upright\n",
        "  except TypeError:\n",
        "    # capture and ignore this bug:\n",
        "    # https://github.com/python-pillow/Pillow/issues/3973\n",
        "    pass\n",
        "\n",
        "  return image"
      ],
      "metadata": {
        "id": "2FTBrmZ8H4WP"
      },
      "execution_count": null,
      "outputs": []
    },
    {
      "cell_type": "code",
      "source": [
        "def _read_segments(cityscapes_root, dataset_split):\n",
        "  \"\"\"Reads segments information from json file.\n",
        "  Args:\n",
        "    cityscapes_root: String, path to Cityscapes dataset root folder.\n",
        "    dataset_split: String, dataset split.\n",
        "  Returns:\n",
        "    segments_dict: A dictionary that maps `image_id` (common file prefix) to\n",
        "      a tuple of (panoptic annotation file name, segments). Please refer to\n",
        "      _generate_panoptic_label() method on the detail structure of `segments`.\n",
        "  \"\"\"\n",
        "  json_filename = os.path.join(\n",
        "      cityscapes_root, \"gtFine\", 'cityscapes_panoptic_%s_trainId.json' % dataset_split)\n",
        "  with tf.io.gfile.GFile(json_filename) as f:\n",
        "    panoptic_dataset = json.load(f)\n",
        "\n",
        "  segments_dict = {}\n",
        "  for annotation in panoptic_dataset['annotations']:\n",
        "    image_id = annotation['image_id']\n",
        "    if image_id in segments_dict:\n",
        "      raise ValueError('Image ID %s already exists' % image_id)\n",
        "    annotation_file_name = annotation['file_name']\n",
        "    segments = annotation['segments_info']\n",
        "\n",
        "    segments_dict[image_id] = (annotation_file_name, segments)\n",
        "  return segments_dict"
      ],
      "metadata": {
        "id": "21PfpecP9LJI"
      },
      "execution_count": null,
      "outputs": []
    },
    {
      "cell_type": "code",
      "source": [
        "def _split_image_path(image_path):\n",
        "  \"\"\"Helper method to extract split paths from input image path.\n",
        "  Args:\n",
        "    image_path: String, path to the image file.\n",
        "  Returns:\n",
        "    A tuple of (cityscape root, dataset split, cityname and shared filename\n",
        "      prefix).\n",
        "  \"\"\"\n",
        "  image_path = os.path.normpath(image_path)\n",
        "  path_list = image_path.split(os.sep)\n",
        "  image_folder, dataset_split, city_name, file_name = path_list[-4:]\n",
        "  if image_folder != _FOLDERS_MAP['image']:\n",
        "    raise ValueError('Expects image path %s containing image folder.'\n",
        "                     % image_path)\n",
        "\n",
        "  pattern = '%s.%s' % (_POSTFIX_MAP['image'], _DATA_FORMAT_MAP['image'])\n",
        "  if not file_name.endswith(pattern):\n",
        "    raise ValueError('Image file name %s should end with %s' %\n",
        "                     (file_name, pattern))\n",
        "\n",
        "  file_prefix = file_name[:-len(pattern)]\n",
        "  return os.sep.join(path_list[:-4]), dataset_split, city_name, file_prefix"
      ],
      "metadata": {
        "id": "Yxd8t0lDDHrZ"
      },
      "execution_count": null,
      "outputs": []
    },
    {
      "cell_type": "code",
      "source": [
        "def _generate_panoptic_label(panoptic_annotation_file, segments, treat_crowd_as_ignore):\n",
        "  \"\"\"Creates panoptic label map from annotations.\n",
        "  Args:\n",
        "    panoptic_annotation_file: String, path to panoptic annotation (populated\n",
        "      with `trainId`).\n",
        "    segments: A list of dictionaries containing information of every segment.\n",
        "      Read from panoptic_${DATASET_SPLIT}_trainId.json. This method consumes\n",
        "      the following fields in each dictionary:\n",
        "        - id: panoptic id\n",
        "        - category_id: semantic class id\n",
        "        - area: pixel area of this segment\n",
        "        - iscrowd: if this segment is crowd region\n",
        "  Returns:\n",
        "    A 2D numpy int32 array with the same height / width with panoptic\n",
        "    annotation. Each pixel value represents its panoptic ID. Please refer to\n",
        "    ../g3doc/setup/cityscapes.md for more details about how panoptic ID is\n",
        "    assigned.\n",
        "  \"\"\"\n",
        "  with tf.io.gfile.GFile(panoptic_annotation_file, 'rb') as f:\n",
        "    panoptic_label = read_image(f.read())\n",
        "\n",
        "  if panoptic_label.mode != 'RGB':\n",
        "    raise ValueError('Expect RGB image for panoptic label, gets %s' %\n",
        "                     panoptic_label.mode)\n",
        "\n",
        "  panoptic_label = np.array(panoptic_label, dtype=np.int32)\n",
        "  # Cityscapes panoptic map is created by:\n",
        "  #   color = [segmentId % 256, segmentId // 256, segmentId // 256 // 256]\n",
        "  panoptic_label = np.dot(panoptic_label, [1, 256, 256 * 256])\n",
        "\n",
        "  semantic_label = np.ones_like(panoptic_label) * _IGNORE_LABEL\n",
        "  instance_label = np.zeros_like(panoptic_label)\n",
        "  # Running count of instances per semantic category.\n",
        "  instance_count = collections.defaultdict(int)\n",
        "  for segment in segments:\n",
        "    selected_pixels = panoptic_label == segment['id']\n",
        "    pixel_area = np.sum(selected_pixels)\n",
        "    if pixel_area != segment['area']:\n",
        "      raise ValueError('Expect %d pixels for segment %s, gets %d.' %\n",
        "                       (segment['area'], segment, pixel_area))\n",
        "\n",
        "    category_id = segment['category_id']\n",
        "    semantic_label[selected_pixels] = category_id\n",
        "\n",
        "    if category_id in _CLASS_HAS_INSTANCE_LIST:\n",
        "      if segment['iscrowd']:\n",
        "        # Cityscapes crowd pixels will have instance ID of 0.\n",
        "        if treat_crowd_as_ignore:\n",
        "          semantic_label[selected_pixels] = _IGNORE_LABEL\n",
        "        continue\n",
        "      # Non-crowd pixels will have instance ID starting from 1.\n",
        "      instance_count[category_id] += 1\n",
        "      if instance_count[category_id] >= _PANOPTIC_LABEL_DIVISOR:\n",
        "        raise ValueError('Too many instances for category %d in this image.' %\n",
        "                         category_id)\n",
        "      instance_label[selected_pixels] = instance_count[category_id]\n",
        "    elif segment['iscrowd']:\n",
        "      raise ValueError('Stuff class should not have `iscrowd` label.')\n",
        "\n",
        "  panoptic_label = semantic_label * _PANOPTIC_LABEL_DIVISOR + instance_label\n",
        "  return panoptic_label.astype(np.int32)"
      ],
      "metadata": {
        "id": "eS9R54joA-2l"
      },
      "execution_count": null,
      "outputs": []
    },
    {
      "cell_type": "code",
      "source": [
        "def _get_panoptic_annotation(cityscapes_root, dataset_split,\n",
        "                             annotation_file_name):\n",
        "  panoptic_folder = 'cityscapes_panoptic_%s_trainId' % dataset_split\n",
        "  return os.path.join(cityscapes_root, _FOLDERS_MAP['label'], panoptic_folder, annotation_file_name)"
      ],
      "metadata": {
        "id": "thb48qzKBzTb"
      },
      "execution_count": null,
      "outputs": []
    },
    {
      "cell_type": "code",
      "source": [
        "def _create_panoptic_label(image_path, segments_dict, treat_crowd_as_ignore=False):\n",
        "  \"\"\"Creates labels for panoptic segmentation.\"\"\"\n",
        "  cityscapes_root, dataset_split, _, file_prefix = _split_image_path(image_path)\n",
        "\n",
        "  annotation_file_name, segments = segments_dict[file_prefix]\n",
        "  #get the path to the cityscapesscript trainID annotated panoptic segmentation\n",
        "  panoptic_annotation_file = _get_panoptic_annotation(cityscapes_root,\n",
        "                                                      dataset_split,\n",
        "                                                      annotation_file_name)\n",
        "\n",
        "  panoptic_label = _generate_panoptic_label(panoptic_annotation_file, segments, treat_crowd_as_ignore)\n",
        "  return panoptic_label.tostring(), _PANOPTIC_LABEL_FORMAT"
      ],
      "metadata": {
        "id": "lgHjTZWzBz8r"
      },
      "execution_count": null,
      "outputs": []
    },
    {
      "cell_type": "markdown",
      "source": [
        "##dataloaders"
      ],
      "metadata": {
        "id": "98xc2FHD6kuN"
      }
    },
    {
      "cell_type": "code",
      "source": [
        "def preprocess_input(opt, data):\n",
        "    data['label'] = data['label'].long()\n",
        "    if opt.gpu_ids != \"-1\":\n",
        "        data['label'] = data['label'].cuda()\n",
        "        data['image'] = data['image'].cuda()\n",
        "    label_map = data['label']\n",
        "    bs, _, h, w = label_map.size()\n",
        "    nc = opt.semantic_nc\n",
        "    if opt.gpu_ids != \"-1\":\n",
        "        input_label = torch.cuda.FloatTensor(bs, nc, h, w).zero_()\n",
        "    else:\n",
        "        input_label = torch.FloatTensor(bs, nc, h, w).zero_()\n",
        "    input_semantics = input_label.scatter_(1, label_map, 1.0)\n",
        "    return data['image'], input_semantics"
      ],
      "metadata": {
        "id": "Fe3wgly7FhAL"
      },
      "execution_count": null,
      "outputs": []
    },
    {
      "cell_type": "code",
      "source": [
        "opt = configure_arguments(train=True)\n",
        "dataloader, dataloader_val = get_dataloaders(opt)\n",
        "data_i = next(iter(dataloader))\n",
        "#image, label = models.preprocess_input(opt, data_i) #need to change preprocess for panoptic."
      ],
      "metadata": {
        "colab": {
          "base_uri": "https://localhost:8080/",
          "height": 1000
        },
        "id": "Xop2HCjrF_6R",
        "outputId": "447b1152-f77e-453d-9fcb-3bbbfc849a1b"
      },
      "execution_count": null,
      "outputs": [
        {
          "output_type": "stream",
          "name": "stdout",
          "text": [
            "----------------- Options ---------------\n",
            "                EMA_decay: 0.999                         \t[default: 0.9999]\n",
            "             add_vgg_loss: False                         \n",
            "               batch_size: 1                             \n",
            "                    beta1: 0.0                           \n",
            "                    beta2: 0.999                         \n",
            "               channels_D: 64                            \n",
            "               channels_G: 64                            \n",
            "          checkpoints_dir: /content/drive/MyDrive/ProjectGAN/pretrained_checkpoints\n",
            "           continue_train: False                         \t[default: True]\n",
            "                 dataroot: /content/drive/MyDrive/ProjectGAN/datasets/cityscapes\n",
            "             dataset_mode: cityscapes                    \n",
            "                 freq_fid: 2500                          \t[default: 5000]\n",
            "               freq_print: 100                           \t[default: 1000]\n",
            "           freq_save_ckpt: 20000                         \n",
            "         freq_save_latest: 10000                         \n",
            "           freq_save_loss: 2500                          \n",
            "         freq_smooth_loss: 250                           \n",
            "                  gpu_ids: -1                            \t[default: 0]\n",
            "          lambda_labelmix: 5.0                           \t[default: 10.0]\n",
            "               lambda_vgg: 10.0                          \n",
            "       loaded_latest_iter: None                          \n",
            "                     lr_d: 0.0004                        \n",
            "                     lr_g: 0.0004                        \t[default: 0.0001]\n",
            "                     name: my_cityscapes_panoptic        \t[default: oasis_cityscapes_pretrained]\n",
            "               no_3dnoise: False                         \n",
            "                   no_EMA: True                          \t[default: False]\n",
            "      no_balancing_inloss: False                         \n",
            "                  no_flip: False                         \n",
            "              no_labelmix: False                         \n",
            "         no_spectral_norm: False                         \n",
            "               num_epochs: 2                             \t[default: 10]\n",
            "           num_res_blocks: 6                             \n",
            "          param_free_norm: syncbatch                     \n",
            "                    phase: train                         \n",
            "                     seed: 42                            \n",
            "             segmentation: panoptic                      \t[default: semantic]\n",
            "                 spade_ks: 3                             \n",
            "               which_iter: latest                        \n",
            "                    z_dim: 64                            \n",
            "----------------- End -------------------\n",
            "getting panoptic datasets\n"
          ]
        },
        {
          "output_type": "error",
          "ename": "NotFoundError",
          "evalue": "ignored",
          "traceback": [
            "\u001b[0;31m---------------------------------------------------------------------------\u001b[0m",
            "\u001b[0;31mNotFoundError\u001b[0m                             Traceback (most recent call last)",
            "\u001b[0;32m<ipython-input-26-727c27650f05>\u001b[0m in \u001b[0;36m<module>\u001b[0;34m()\u001b[0m\n\u001b[1;32m      1\u001b[0m \u001b[0mopt\u001b[0m \u001b[0;34m=\u001b[0m \u001b[0mconfigure_arguments\u001b[0m\u001b[0;34m(\u001b[0m\u001b[0mtrain\u001b[0m\u001b[0;34m=\u001b[0m\u001b[0;32mTrue\u001b[0m\u001b[0;34m)\u001b[0m\u001b[0;34m\u001b[0m\u001b[0;34m\u001b[0m\u001b[0m\n\u001b[0;32m----> 2\u001b[0;31m \u001b[0mdataloader\u001b[0m\u001b[0;34m,\u001b[0m \u001b[0mdataloader_val\u001b[0m \u001b[0;34m=\u001b[0m \u001b[0mget_dataloaders\u001b[0m\u001b[0;34m(\u001b[0m\u001b[0mopt\u001b[0m\u001b[0;34m)\u001b[0m\u001b[0;34m\u001b[0m\u001b[0;34m\u001b[0m\u001b[0m\n\u001b[0m\u001b[1;32m      3\u001b[0m \u001b[0mdata_i\u001b[0m \u001b[0;34m=\u001b[0m \u001b[0mnext\u001b[0m\u001b[0;34m(\u001b[0m\u001b[0miter\u001b[0m\u001b[0;34m(\u001b[0m\u001b[0mdataloader\u001b[0m\u001b[0;34m)\u001b[0m\u001b[0;34m)\u001b[0m\u001b[0;34m\u001b[0m\u001b[0;34m\u001b[0m\u001b[0m\n\u001b[1;32m      4\u001b[0m \u001b[0;31m#image, label = models.preprocess_input(opt, data_i) #need to change preprocess for panoptic.\u001b[0m\u001b[0;34m\u001b[0m\u001b[0;34m\u001b[0m\u001b[0;34m\u001b[0m\u001b[0m\n",
            "\u001b[0;32m<ipython-input-5-9c3e38616e7e>\u001b[0m in \u001b[0;36mget_dataloaders\u001b[0;34m(opt)\u001b[0m\n\u001b[1;32m      9\u001b[0m     \u001b[0;32melse\u001b[0m\u001b[0;34m:\u001b[0m\u001b[0;34m\u001b[0m\u001b[0;34m\u001b[0m\u001b[0m\n\u001b[1;32m     10\u001b[0m       \u001b[0mprint\u001b[0m\u001b[0;34m(\u001b[0m\u001b[0;34m\"getting panoptic datasets\"\u001b[0m\u001b[0;34m)\u001b[0m\u001b[0;34m\u001b[0m\u001b[0;34m\u001b[0m\u001b[0m\n\u001b[0;32m---> 11\u001b[0;31m       \u001b[0mdataset_train\u001b[0m \u001b[0;34m=\u001b[0m \u001b[0mCityscapesDataset\u001b[0m\u001b[0;34m(\u001b[0m\u001b[0mopt\u001b[0m\u001b[0;34m,\u001b[0m \u001b[0mfor_metrics\u001b[0m\u001b[0;34m=\u001b[0m\u001b[0;32mFalse\u001b[0m\u001b[0;34m)\u001b[0m\u001b[0;34m\u001b[0m\u001b[0;34m\u001b[0m\u001b[0m\n\u001b[0m\u001b[1;32m     12\u001b[0m       \u001b[0mdataset_val\u001b[0m   \u001b[0;34m=\u001b[0m \u001b[0mCityscapesDataset\u001b[0m\u001b[0;34m(\u001b[0m\u001b[0mopt\u001b[0m\u001b[0;34m,\u001b[0m \u001b[0mfor_metrics\u001b[0m\u001b[0;34m=\u001b[0m\u001b[0;32mTrue\u001b[0m\u001b[0;34m)\u001b[0m\u001b[0;34m\u001b[0m\u001b[0;34m\u001b[0m\u001b[0m\n\u001b[1;32m     13\u001b[0m \u001b[0;34m\u001b[0m\u001b[0m\n",
            "\u001b[0;32m<ipython-input-25-5aeaad35fda2>\u001b[0m in \u001b[0;36m__init__\u001b[0;34m(self, opt, for_metrics)\u001b[0m\n\u001b[1;32m     11\u001b[0m \u001b[0;34m\u001b[0m\u001b[0m\n\u001b[1;32m     12\u001b[0m         \u001b[0;32mif\u001b[0m \u001b[0mopt\u001b[0m\u001b[0;34m.\u001b[0m\u001b[0msegmentation\u001b[0m \u001b[0;34m==\u001b[0m \u001b[0;34m\"panoptic\"\u001b[0m\u001b[0;34m:\u001b[0m\u001b[0;34m\u001b[0m\u001b[0;34m\u001b[0m\u001b[0m\n\u001b[0;32m---> 13\u001b[0;31m           \u001b[0mopt\u001b[0m\u001b[0;34m.\u001b[0m\u001b[0msegments_dict\u001b[0m \u001b[0;34m=\u001b[0m \u001b[0m_read_segments\u001b[0m\u001b[0;34m(\u001b[0m\u001b[0mopt\u001b[0m\u001b[0;34m.\u001b[0m\u001b[0mdataroot\u001b[0m\u001b[0;34m,\u001b[0m \u001b[0;34m\"val\"\u001b[0m \u001b[0;32mif\u001b[0m \u001b[0mopt\u001b[0m\u001b[0;34m.\u001b[0m\u001b[0mphase\u001b[0m \u001b[0;34m==\u001b[0m \u001b[0;34m\"test\"\u001b[0m \u001b[0;32mor\u001b[0m \u001b[0mfor_metrics\u001b[0m \u001b[0;32melse\u001b[0m \u001b[0;34m\"train\"\u001b[0m\u001b[0;34m)\u001b[0m\u001b[0;34m\u001b[0m\u001b[0;34m\u001b[0m\u001b[0m\n\u001b[0m\u001b[1;32m     14\u001b[0m \u001b[0;34m\u001b[0m\u001b[0m\n\u001b[1;32m     15\u001b[0m         \u001b[0mself\u001b[0m\u001b[0;34m.\u001b[0m\u001b[0mopt\u001b[0m \u001b[0;34m=\u001b[0m \u001b[0mopt\u001b[0m\u001b[0;34m\u001b[0m\u001b[0;34m\u001b[0m\u001b[0m\n",
            "\u001b[0;32m<ipython-input-9-77886873ea53>\u001b[0m in \u001b[0;36m_read_segments\u001b[0;34m(cityscapes_root, dataset_split)\u001b[0m\n\u001b[1;32m     12\u001b[0m       cityscapes_root, \"gtFine\", 'cityscapes_panoptic_%s_trainId.json' % dataset_split)\n\u001b[1;32m     13\u001b[0m   \u001b[0;32mwith\u001b[0m \u001b[0mtf\u001b[0m\u001b[0;34m.\u001b[0m\u001b[0mio\u001b[0m\u001b[0;34m.\u001b[0m\u001b[0mgfile\u001b[0m\u001b[0;34m.\u001b[0m\u001b[0mGFile\u001b[0m\u001b[0;34m(\u001b[0m\u001b[0mjson_filename\u001b[0m\u001b[0;34m)\u001b[0m \u001b[0;32mas\u001b[0m \u001b[0mf\u001b[0m\u001b[0;34m:\u001b[0m\u001b[0;34m\u001b[0m\u001b[0;34m\u001b[0m\u001b[0m\n\u001b[0;32m---> 14\u001b[0;31m     \u001b[0mpanoptic_dataset\u001b[0m \u001b[0;34m=\u001b[0m \u001b[0mjson\u001b[0m\u001b[0;34m.\u001b[0m\u001b[0mload\u001b[0m\u001b[0;34m(\u001b[0m\u001b[0mf\u001b[0m\u001b[0;34m)\u001b[0m\u001b[0;34m\u001b[0m\u001b[0;34m\u001b[0m\u001b[0m\n\u001b[0m\u001b[1;32m     15\u001b[0m \u001b[0;34m\u001b[0m\u001b[0m\n\u001b[1;32m     16\u001b[0m   \u001b[0msegments_dict\u001b[0m \u001b[0;34m=\u001b[0m \u001b[0;34m{\u001b[0m\u001b[0;34m}\u001b[0m\u001b[0;34m\u001b[0m\u001b[0;34m\u001b[0m\u001b[0m\n",
            "\u001b[0;32m/usr/lib/python3.7/json/__init__.py\u001b[0m in \u001b[0;36mload\u001b[0;34m(fp, cls, object_hook, parse_float, parse_int, parse_constant, object_pairs_hook, **kw)\u001b[0m\n\u001b[1;32m    291\u001b[0m     \u001b[0mkwarg\u001b[0m\u001b[0;34m;\u001b[0m \u001b[0motherwise\u001b[0m\u001b[0;31m \u001b[0m\u001b[0;31m`\u001b[0m\u001b[0;31m`\u001b[0m\u001b[0mJSONDecoder\u001b[0m\u001b[0;31m`\u001b[0m\u001b[0;31m`\u001b[0m \u001b[0;32mis\u001b[0m \u001b[0mused\u001b[0m\u001b[0;34m.\u001b[0m\u001b[0;34m\u001b[0m\u001b[0;34m\u001b[0m\u001b[0m\n\u001b[1;32m    292\u001b[0m     \"\"\"\n\u001b[0;32m--> 293\u001b[0;31m     return loads(fp.read(),\n\u001b[0m\u001b[1;32m    294\u001b[0m         \u001b[0mcls\u001b[0m\u001b[0;34m=\u001b[0m\u001b[0mcls\u001b[0m\u001b[0;34m,\u001b[0m \u001b[0mobject_hook\u001b[0m\u001b[0;34m=\u001b[0m\u001b[0mobject_hook\u001b[0m\u001b[0;34m,\u001b[0m\u001b[0;34m\u001b[0m\u001b[0;34m\u001b[0m\u001b[0m\n\u001b[1;32m    295\u001b[0m         \u001b[0mparse_float\u001b[0m\u001b[0;34m=\u001b[0m\u001b[0mparse_float\u001b[0m\u001b[0;34m,\u001b[0m \u001b[0mparse_int\u001b[0m\u001b[0;34m=\u001b[0m\u001b[0mparse_int\u001b[0m\u001b[0;34m,\u001b[0m\u001b[0;34m\u001b[0m\u001b[0;34m\u001b[0m\u001b[0m\n",
            "\u001b[0;32m/usr/local/lib/python3.7/dist-packages/tensorflow/python/lib/io/file_io.py\u001b[0m in \u001b[0;36mread\u001b[0;34m(self, n)\u001b[0m\n\u001b[1;32m    112\u001b[0m       \u001b[0mstring\u001b[0m \u001b[0;32mif\u001b[0m \u001b[0;32min\u001b[0m \u001b[0mstring\u001b[0m \u001b[0;34m(\u001b[0m\u001b[0mregular\u001b[0m\u001b[0;34m)\u001b[0m \u001b[0mmode\u001b[0m\u001b[0;34m.\u001b[0m\u001b[0;34m\u001b[0m\u001b[0;34m\u001b[0m\u001b[0m\n\u001b[1;32m    113\u001b[0m     \"\"\"\n\u001b[0;32m--> 114\u001b[0;31m     \u001b[0mself\u001b[0m\u001b[0;34m.\u001b[0m\u001b[0m_preread_check\u001b[0m\u001b[0;34m(\u001b[0m\u001b[0;34m)\u001b[0m\u001b[0;34m\u001b[0m\u001b[0;34m\u001b[0m\u001b[0m\n\u001b[0m\u001b[1;32m    115\u001b[0m     \u001b[0;32mif\u001b[0m \u001b[0mn\u001b[0m \u001b[0;34m==\u001b[0m \u001b[0;34m-\u001b[0m\u001b[0;36m1\u001b[0m\u001b[0;34m:\u001b[0m\u001b[0;34m\u001b[0m\u001b[0;34m\u001b[0m\u001b[0m\n\u001b[1;32m    116\u001b[0m       \u001b[0mlength\u001b[0m \u001b[0;34m=\u001b[0m \u001b[0mself\u001b[0m\u001b[0;34m.\u001b[0m\u001b[0msize\u001b[0m\u001b[0;34m(\u001b[0m\u001b[0;34m)\u001b[0m \u001b[0;34m-\u001b[0m \u001b[0mself\u001b[0m\u001b[0;34m.\u001b[0m\u001b[0mtell\u001b[0m\u001b[0;34m(\u001b[0m\u001b[0;34m)\u001b[0m\u001b[0;34m\u001b[0m\u001b[0;34m\u001b[0m\u001b[0m\n",
            "\u001b[0;32m/usr/local/lib/python3.7/dist-packages/tensorflow/python/lib/io/file_io.py\u001b[0m in \u001b[0;36m_preread_check\u001b[0;34m(self)\u001b[0m\n\u001b[1;32m     75\u001b[0m                                            \"File isn't open for reading\")\n\u001b[1;32m     76\u001b[0m       self._read_buf = _pywrap_file_io.BufferedInputStream(\n\u001b[0;32m---> 77\u001b[0;31m           compat.path_to_str(self.__name), 1024 * 512)\n\u001b[0m\u001b[1;32m     78\u001b[0m \u001b[0;34m\u001b[0m\u001b[0m\n\u001b[1;32m     79\u001b[0m   \u001b[0;32mdef\u001b[0m \u001b[0m_prewrite_check\u001b[0m\u001b[0;34m(\u001b[0m\u001b[0mself\u001b[0m\u001b[0;34m)\u001b[0m\u001b[0;34m:\u001b[0m\u001b[0;34m\u001b[0m\u001b[0;34m\u001b[0m\u001b[0m\n",
            "\u001b[0;31mNotFoundError\u001b[0m: /content/drive/MyDrive/ProjectGAN/datasets/cityscapes/gtFine/cityscapes_panoptic_train_trainId.json; No such file or directory"
          ]
        }
      ]
    },
    {
      "cell_type": "markdown",
      "source": [
        "panoptic is just instance in COCO format ☹"
      ],
      "metadata": {
        "id": "mjmzKfYIMw4j"
      }
    },
    {
      "cell_type": "code",
      "source": [
        "from numpy.lib.type_check import real_if_close\n",
        "real = np.array(Image.open(opt.dataroot + \"/leftImg8bit/train/hanover/hanover_000000_000164_leftImg8bit.png\"))\n",
        "semantic = np.array(Image.open(opt.dataroot + \"/gtFine/train/hanover/hanover_000000_000164_gtFine_color.png\"))\n",
        "labelIDs = np.array(Image.open(opt.dataroot + \"/gtFine/train/hanover/hanover_000000_000164_gtFine_labelIds.png\"))\n",
        "instanceIDs = np.array(Image.open(opt.dataroot + \"/gtFine/train/hanover/hanover_000000_000164_gtFine_instanceIds.png\"))\n",
        "panoptic = np.array(Image.open(opt.dataroot + \"/gtFinePanoptic/cityscapes_panoptic_train/hanover_000000_000164_gtFine_panoptic.png\"), dtype=np.int32)\n",
        "\n",
        "plt.figure(figsize=(20, 4))\n",
        "grid_spec = gridspec.GridSpec(2, 4, width_ratios=[6, 6, 6, 6])\n",
        "\n",
        "plt.subplot(grid_spec[0])\n",
        "plt.imshow(real)\n",
        "plt.axis('off')\n",
        "plt.title('real')\n",
        "plt.subplot(grid_spec[1])\n",
        "plt.imshow(semantic)\n",
        "plt.axis('off')\n",
        "plt.title('semantic colored')\n",
        "plt.subplot(grid_spec[2])\n",
        "plt.imshow(labelIDs)\n",
        "plt.axis('off')\n",
        "plt.title('labelIDs')\n",
        "plt.subplot(grid_spec[3])\n",
        "plt.imshow(instanceIDs)\n",
        "plt.axis('off')\n",
        "plt.title('instanceIDs')\n",
        "plt.subplot(grid_spec[1,0])\n",
        "plt.imshow(panoptic)\n",
        "plt.axis('off')\n",
        "plt.title('panoptic')"
      ],
      "metadata": {
        "colab": {
          "base_uri": "https://localhost:8080/",
          "height": 281
        },
        "id": "mEifyZt_GNy1",
        "outputId": "c3c98d21-c2a6-4531-8e07-45b00dd39a74"
      },
      "execution_count": null,
      "outputs": [
        {
          "output_type": "execute_result",
          "data": {
            "text/plain": [
              "Text(0.5, 1.0, 'panoptic')"
            ]
          },
          "metadata": {},
          "execution_count": 24
        },
        {
          "output_type": "display_data",
          "data": {
            "text/plain": [
              "<Figure size 1440x288 with 5 Axes>"
            ],
            "image/png": "[encoded data removed]"
          },
          "metadata": {
            "needs_background": "light"
          }
        }
      ]
    },
    {
      "cell_type": "code",
      "source": [
        "from OASIS.dataloaders.dataloaders import get_dataset_name\n",
        "def get_dataloaders(opt):\n",
        "    #only city scapes is now supported for panoptic\n",
        "    dataset_name   = get_dataset_name(opt.dataset_mode)\n",
        "    if opt.segmentation == \"semantic\":\n",
        "      file = __import__(\"dataloaders.\"+dataset_name)\n",
        "      dataset_train = file.__dict__[dataset_name].__dict__[dataset_name](opt, for_metrics=False)\n",
        "      dataset_val   = file.__dict__[dataset_name].__dict__[dataset_name](opt, for_metrics=True)\n",
        "    else:\n",
        "      print(\"getting panoptic datasets\")\n",
        "      dataset_train = CityscapesDataset(opt, for_metrics=False)\n",
        "      dataset_val   = CityscapesDataset(opt, for_metrics=True)\n",
        "\n",
        "    print(\"Created %s, size train: %d, size val: %d\" % (dataset_name, len(dataset_train), len(dataset_val)))\n",
        "\n",
        "    dataloader_train = torch.utils.data.DataLoader(dataset_train, batch_size = opt.batch_size, shuffle = True, drop_last=True)\n",
        "    dataloader_val = torch.utils.data.DataLoader(dataset_val, batch_size = opt.batch_size, shuffle = False, drop_last=False)\n",
        "\n",
        "    return dataloader_train, dataloader_val"
      ],
      "metadata": {
        "id": "zFp0Rq7M6kM-"
      },
      "execution_count": null,
      "outputs": []
    },
    {
      "cell_type": "code",
      "source": [
        "class CityscapesDataset(torch.utils.data.Dataset):\n",
        "    def __init__(self, opt, for_metrics):\n",
        "        opt.load_size = 512\n",
        "        opt.crop_size = 512\n",
        "        opt.label_nc = 34\n",
        "        opt.contain_dontcare_label = True\n",
        "        opt.semantic_nc = 35 # label_nc + unknown\n",
        "        opt.cache_filelist_read = False\n",
        "        opt.cache_filelist_write = False\n",
        "        opt.aspect_ratio = 2.0\n",
        "\n",
        "        if opt.segmentation == \"panoptic\":\n",
        "          opt.segments_dict = _read_segments(opt.dataroot, \"val\" if opt.phase == \"test\" or for_metrics else \"train\")\n",
        "\n",
        "        self.opt = opt\n",
        "        self.for_metrics = for_metrics\n",
        "        self.images, self.labels, self.paths = self.list_images()\n",
        "        \n",
        "\n",
        "    def __len__(self,):\n",
        "        return len(self.images)\n",
        "\n",
        "    def __getitem__(self, idx):\n",
        "        image = Image.open(os.path.join(self.paths[0], self.images[idx])).convert('RGB')\n",
        "        label = Image.open(os.path.join(self.paths[1], self.labels[idx]))\n",
        "        if opt.segmentation == \"panoptic\":\n",
        "          segments_dict = _read_segments()\n",
        "          label, label_format = _create_panoptic_label(os.path.join(self.paths[0], self.images[idx]), segments_dict)\n",
        "        image, label = self.transforms(image, label)\n",
        "        label = label * 255\n",
        "        return {\"image\": image, \"label\": label, \"name\": self.images[idx]}\n",
        "\n",
        "    def list_images(self):\n",
        "        mode = \"val\" if self.opt.phase == \"test\" or self.for_metrics else \"train\"\n",
        "        images = []\n",
        "        path_img = os.path.join(self.opt.dataroot, \"leftImg8bit\", mode)\n",
        "        for city_folder in sorted(os.listdir(path_img)):\n",
        "            cur_folder = os.path.join(path_img, city_folder)\n",
        "            for item in sorted(os.listdir(cur_folder)):\n",
        "                images.append(os.path.join(city_folder, item))\n",
        "        labels = []\n",
        "        if (self.opt.segmentation==\"semantic\"):\n",
        "          path_lab = os.path.join(self.opt.dataroot, \"gtFine\", mode)\n",
        "          file_extension = \"_gtFine.png\"\n",
        "          for city_folder in sorted(os.listdir(path_lab)):\n",
        "            cur_folder = os.path.join(path_lab, city_folder)\n",
        "            for item in sorted(os.listdir(cur_folder)):\n",
        "                if item.find(\"labelIds\") != -1:\n",
        "                    labels.append(os.path.join(city_folder, item))\n",
        "        else:\n",
        "          path_lab = os.path.join(self.opt.dataroot, \"gtFinePanoptic\", \"cityscapes_panoptic_\" + mode)\n",
        "          file_extension = \"_gtFine_panoptic.png\"\n",
        "          for item in sorted(os.listdir(path_lab)):\n",
        "                labels.append(os.path.join(path_lab, item))\n",
        "        \n",
        "        assert len(images)  == len(labels), \"different len of images and labels %s - %s\" % (len(images), len(labels))\n",
        "        '''\n",
        "        for i in range(len(images)):\n",
        "            assert images[i].replace(\"_leftImg8bit.png\", \"\") == labels[i].replace(file_extension, \"\"),\\\n",
        "                '%s and %s are not matching' % (images[i], labels[i])\n",
        "                '''\n",
        "        return images, labels, (path_img, path_lab)\n",
        "\n",
        "    def transforms(self, image, label):\n",
        "        assert image.size == label.size\n",
        "        # resize\n",
        "        new_width, new_height = (int(self.opt.load_size / self.opt.aspect_ratio), self.opt.load_size)\n",
        "        image = TR.functional.resize(image, (new_width, new_height), Image.BICUBIC)\n",
        "        label = TR.functional.resize(label, (new_width, new_height), Image.NEAREST)\n",
        "        # flip\n",
        "        if not (self.opt.phase == \"test\" or self.opt.no_flip or self.for_metrics):\n",
        "            if random.random() < 0.5:\n",
        "                image = TR.functional.hflip(image)\n",
        "                label = TR.functional.hflip(label)\n",
        "        # to tensor\n",
        "        image = TR.functional.to_tensor(image)\n",
        "        label = TR.functional.to_tensor(label)\n",
        "        # normalize\n",
        "        image = TR.functional.normalize(image, (0.5, 0.5, 0.5), (0.5, 0.5, 0.5))\n",
        "        return image, label"
      ],
      "metadata": {
        "id": "vQwxOF7U6vBq"
      },
      "execution_count": null,
      "outputs": []
    }
  ]
}